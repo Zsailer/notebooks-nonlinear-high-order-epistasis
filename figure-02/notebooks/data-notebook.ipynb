{
 "cells": [
  {
   "cell_type": "markdown",
   "metadata": {},
   "source": [
    "# Data generation for Figure 1"
   ]
  },
  {
   "cell_type": "markdown",
   "metadata": {},
   "source": [
    "Imports"
   ]
  },
  {
   "cell_type": "code",
   "execution_count": 14,
   "metadata": {
    "collapsed": false
   },
   "outputs": [],
   "source": [
    "%matplotlib inline\n",
    "import numpy as np\n",
    "import matplotlib.pyplot as plt\n",
    "import scipy as sp\n",
    "from ipywidgets import interact, interactive\n",
    "import sys\n",
    "\n",
    "# Imports from epistasis API\n",
    "from epistasis.plotting.coefs import coefs\n",
    "from epistasis.stats import pearson\n",
    "from epistasis.simulate.additive import AdditiveSimulation\n",
    "from epistasis.simulate.nonlinear import NonlinearSimulation\n",
    "from epistasis.models.linear import EpistasisLinearRegression\n",
    "from epistasis.models.nonlinear.power import EpistasisPowerTransform"
   ]
  },
  {
   "cell_type": "code",
   "execution_count": 4,
   "metadata": {
    "collapsed": false
   },
   "outputs": [],
   "source": [
    "def function(x, k):\n",
    "    return ((k+1)*x) / (k*x + 1) "
   ]
  },
  {
   "cell_type": "markdown",
   "metadata": {},
   "source": [
    "## Initialize a genotype-phenotype map with epistasis."
   ]
  },
  {
   "cell_type": "code",
   "execution_count": 11,
   "metadata": {
    "collapsed": true
   },
   "outputs": [],
   "source": [
    "# Length of genotypes\n",
    "length = 5\n",
    "# Order of epistasis\n",
    "order = 1 \n",
    "# Construct a simulated epistatic genotype-phenotype map.\n",
    "initial = AdditiveSimulation.from_length(length, model_type=\"global\")\n",
    "initial.set_coefs_order(1)\n",
    "initial.set_coefs_random((-0.15, 0.15))\n",
    "initial.epistasis.values[0] = 0.5 # Center the phenotypes at 0.5\n",
    "initial.build()"
   ]
  },
  {
   "cell_type": "markdown",
   "metadata": {},
   "source": [
    "The actual epistatic coefs set in the paper were:\n",
    "```python\n",
    ">>> initial.epistasis.values = np.array([ 0.5, -0.13463125, 0.12698641, 0.02709926, 0.09493059, 0.10254137])\n",
    "```"
   ]
  },
  {
   "cell_type": "code",
   "execution_count": 19,
   "metadata": {
    "collapsed": false
   },
   "outputs": [
    {
     "data": {
      "image/png": "[encoded data removed]",
      "text/plain": [
       "<matplotlib.figure.Figure at 0x10ba32278>"
      ]
     },
     "metadata": {},
     "output_type": "display_data"
    }
   ],
   "source": [
    "fig, ax = coefs(initial.epistasis.values, initial.epistasis.labels, \n",
    "    figsize=(2,4),\n",
    "    y_axis_name=\"\",\n",
    "    height_ratio=1,\n",
    ")\n",
    "\n",
    "#fig.savefig(\n",
    "#    \"/Users/Zsailer/Dropbox/epistasis-paper/figures/fig-3/additive-coeffs.svg\", \n",
    "#    format=\"svg\", \n",
    "#    bbox_height=\"tight\"\n",
    "#)"
   ]
  },
  {
   "cell_type": "code",
   "execution_count": 20,
   "metadata": {
    "collapsed": false
   },
   "outputs": [
    {
     "ename": "NameError",
     "evalue": "name 'selfs' is not defined",
     "output_type": "error",
     "traceback": [
      "\u001b[0;31m---------------------------------------------------------------------------\u001b[0m",
      "\u001b[0;31mNameError\u001b[0m                                 Traceback (most recent call last)",
      "\u001b[0;32m<ipython-input-20-0b3047368007>\u001b[0m in \u001b[0;36m<module>\u001b[0;34m()\u001b[0m\n\u001b[1;32m      1\u001b[0m \u001b[0mshape\u001b[0m \u001b[0;34m=\u001b[0m \u001b[0;36m2\u001b[0m\u001b[0;34m\u001b[0m\u001b[0m\n\u001b[0;32m----> 2\u001b[0;31m \u001b[0mnonlinear\u001b[0m \u001b[0;34m=\u001b[0m \u001b[0mNonlinearSimulation\u001b[0m\u001b[0;34m.\u001b[0m\u001b[0mfrom_linear\u001b[0m\u001b[0;34m(\u001b[0m\u001b[0minitial\u001b[0m\u001b[0;34m,\u001b[0m \u001b[0mfunction\u001b[0m\u001b[0;34m=\u001b[0m\u001b[0mfunction\u001b[0m\u001b[0;34m,\u001b[0m \u001b[0mp0\u001b[0m\u001b[0;34m=\u001b[0m\u001b[0;34m(\u001b[0m\u001b[0mshape\u001b[0m\u001b[0;34m,\u001b[0m\u001b[0;34m)\u001b[0m\u001b[0;34m)\u001b[0m\u001b[0;34m\u001b[0m\u001b[0m\n\u001b[0m",
      "\u001b[0;32m/Users/Zsailer/Documents/Research/projects/pkgs/epistasis/epistasis/simulate/nonlinear.py\u001b[0m in \u001b[0;36mfrom_linear\u001b[0;34m(cls, model, function, p0, **kwargs)\u001b[0m\n\u001b[1;32m     47\u001b[0m         \u001b[0mself\u001b[0m\u001b[0;34m.\u001b[0m\u001b[0mepistasis\u001b[0m \u001b[0;34m=\u001b[0m \u001b[0mmodel\u001b[0m\u001b[0;34m.\u001b[0m\u001b[0mepistasis\u001b[0m\u001b[0;34m\u001b[0m\u001b[0m\n\u001b[1;32m     48\u001b[0m         \u001b[0mself\u001b[0m\u001b[0;34m.\u001b[0m\u001b[0mbuild\u001b[0m\u001b[0;34m(\u001b[0m\u001b[0;34m)\u001b[0m\u001b[0;34m\u001b[0m\u001b[0m\n\u001b[0;32m---> 49\u001b[0;31m         \u001b[0;32mreturn\u001b[0m \u001b[0mselfs\u001b[0m\u001b[0;34m\u001b[0m\u001b[0m\n\u001b[0m\u001b[1;32m     50\u001b[0m \u001b[0;34m\u001b[0m\u001b[0m\n\u001b[1;32m     51\u001b[0m     \u001b[0;32mdef\u001b[0m \u001b[0mbuild\u001b[0m\u001b[0;34m(\u001b[0m\u001b[0mself\u001b[0m\u001b[0;34m,\u001b[0m \u001b[0;34m*\u001b[0m\u001b[0margs\u001b[0m\u001b[0;34m)\u001b[0m\u001b[0;34m:\u001b[0m\u001b[0;34m\u001b[0m\u001b[0m\n",
      "\u001b[0;31mNameError\u001b[0m: name 'selfs' is not defined"
     ]
    }
   ],
   "source": [
    "shape = 2\n",
    "nonlinear = NonlinearSimulation.from_linear(initial, function=function, p0=(shape,))"
   ]
  },
  {
   "cell_type": "code",
   "execution_count": 147,
   "metadata": {
    "collapsed": false
   },
   "outputs": [
    {
     "data": {
      "image/png": "[encoded data removed]",
      "text/plain": [
       "<matplotlib.figure.Figure at 0x10ea41780>"
      ]
     },
     "metadata": {
      "image/png": {
       "height": 141,
       "width": 148
      }
     },
     "output_type": "display_data"
    }
   ],
   "source": [
    "fig, ax = plt.subplots(figsize=[2,2])\n",
    "\n",
    "x = np.linspace(min(nonlinear.phenotypes),  max(nonlinear.phenotypes), 100)\n",
    "y = nonlinear.function(x, *nonlinear.parameters.get_params())\n",
    "ax.plot(x, y, 'k-')\n",
    "ax.axis([-0.15,1.15,-0.15,1.15])\n",
    "ax.spines['bottom'].set_bounds(0,1.)\n",
    "ax.spines['left'].set_bounds(0,1.)\n",
    "ax.set_xticks([0,.5,1])\n",
    "fig.savefig(\"/Users/Zsailer/Dropbox/epistasis-paper/figures/fig-3/nonlinear-shape.svg\", format=\"svg\", bbox_height=\"tight\")"
   ]
  },
  {
   "cell_type": "code",
   "execution_count": null,
   "metadata": {
    "collapsed": true
   },
   "outputs": [],
   "source": [
    "fig.savefig(\n",
    "    \"/Users/Zsailer/Dropbox/epistasis-paper/figures/fig-3/nonlinear-shape.svg\", \n",
    "    format=\"svg\", \n",
    "    bbox_height=\"tight\"\n",
    ")"
   ]
  },
  {
   "cell_type": "code",
   "execution_count": 143,
   "metadata": {
    "collapsed": true
   },
   "outputs": [],
   "source": [
    "model = LinearEpistasisModel.from_gpm(nonlinear, model_type=\"global\")\n",
    "model.fit()"
   ]
  },
  {
   "cell_type": "code",
   "execution_count": 148,
   "metadata": {
    "collapsed": false
   },
   "outputs": [
    {
     "data": {
      "image/png": "[encoded data removed]",
      "text/plain": [
       "<matplotlib.figure.Figure at 0x10ec66a58>"
      ]
     },
     "metadata": {
      "image/png": {
       "height": 208,
       "width": 208
      }
     },
     "output_type": "display_data"
    }
   ],
   "source": [
    "fig, ax = model.plot.epistasis(figsize=(3,3),     \n",
    "    y_axis_name=\"\",\n",
    "    height_ratio=4,\n",
    ")"
   ]
  },
  {
   "cell_type": "code",
   "execution_count": null,
   "metadata": {
    "collapsed": true
   },
   "outputs": [],
   "source": [
    "fig.savefig(\n",
    "    \"/Users/Zsailer/Dropbox/epistasis-paper/figures/fig-3/linear-fit-coeffs.svg\", \n",
    "    format=\"svg\", \n",
    "    bbox_height=\"tight\"\n",
    ")"
   ]
  }
 ],
 "metadata": {
  "kernelspec": {
   "display_name": "Python 3 (py3)",
   "language": "python",
   "name": "py3"
  },
  "language_info": {
   "codemirror_mode": {
    "name": "ipython",
    "version": 3
   },
   "file_extension": ".py",
   "mimetype": "text/x-python",
   "name": "python",
   "nbconvert_exporter": "python",
   "pygments_lexer": "ipython3",
   "version": "3.5.0"
  }
 },
 "nbformat": 4,
 "nbformat_minor": 0
}

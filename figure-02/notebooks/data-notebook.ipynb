{
 "cells": [
  {
   "cell_type": "markdown",
   "metadata": {},
   "source": [
    "# Data generation for Figure 1"
   ]
  },
  {
   "cell_type": "markdown",
   "metadata": {},
   "source": [
    "Imports"
   ]
  },
  {
   "cell_type": "code",
   "execution_count": 1,
   "metadata": {
    "collapsed": false
   },
   "outputs": [],
   "source": [
    "%matplotlib inline\n",
    "import numpy as np\n",
    "import matplotlib.pyplot as plt\n",
    "import scipy as sp\n",
    "from ipywidgets import interact, interactive\n",
    "import sys\n",
    "\n",
    "# Imports from epistasis API\n",
    "from epistasis.plotting import epistasis\n",
    "from epistasis.stats import pearson\n",
    "from epistasis.simulate.additive import AdditiveSimulation\n",
    "from epistasis.simulate.nonlinear import NonlinearSimulation\n",
    "from epistasis.models.linear import LinearEpistasisModel\n",
    "from epistasis.models import (LinearEpistasisRegression, NonlinearEpistasisModel)"
   ]
  },
  {
   "cell_type": "code",
   "execution_count": 4,
   "metadata": {
    "collapsed": false
   },
   "outputs": [],
   "source": [
    "def power_transform(x, lmbda, A, B):\n",
    "    gmean = sp.stats.mstats.gmean(x + A)\n",
    "    if lmbda == 0:\n",
    "        return gmean*np.log(x+A)\n",
    "    else:\n",
    "        first = (x+A)**lmbda\n",
    "        out = (first - 1.0)/(lmbda * gmean**(lmbda-1)) + B\n",
    "        return out\n",
    "    \n",
    "def reverse_function(y, lmbda, A, B):\n",
    "    gmean = sp.stats.mstats.gmean(model.statistics.linear()+A)\n",
    "    return (gmean**(lmbda-1)*lmbda*(y - B) + 1)**(1/lmbda) - A\n",
    "\n",
    "def function(x, k):\n",
    "    return ((k+1)*x) / (k*x + 1) "
   ]
  },
  {
   "cell_type": "markdown",
   "metadata": {},
   "source": [
    "## Initialize a genotype-phenotype map with epistasis."
   ]
  },
  {
   "cell_type": "code",
   "execution_count": 139,
   "metadata": {
    "collapsed": false
   },
   "outputs": [],
   "source": [
    "initial = AdditiveSimulation.quick_start(5,1, model_type=\"global\", coeff_range=(-.15,.15))\n",
    "initial.epistasis.values[0] = .5\n",
    "initial.build()"
   ]
  },
  {
   "cell_type": "markdown",
   "metadata": {},
   "source": [
    "# Values used in in the paper: \n",
    "initial.epistasis.values = np.array([ 0.5, -0.13463125, 0.12698641, 0.02709926, 0.09493059, 0.10254137])"
   ]
  },
  {
   "cell_type": "code",
   "execution_count": 145,
   "metadata": {
    "collapsed": false
   },
   "outputs": [
    {
     "data": {
      "text/plain": [
       "array([ 0.5       , -0.13463125,  0.12698641,  0.02709926,  0.09493059,\n",
       "        0.10254137])"
      ]
     },
     "execution_count": 145,
     "metadata": {},
     "output_type": "execute_result"
    }
   ],
   "source": [
    "initial.epistasis.values"
   ]
  },
  {
   "cell_type": "code",
   "execution_count": 146,
   "metadata": {
    "collapsed": false
   },
   "outputs": [
    {
     "data": {
      "image/png": "[encoded data removed]",
      "text/plain": [
       "<matplotlib.figure.Figure at 0x10f497ba8>"
      ]
     },
     "metadata": {
      "image/png": {
       "height": 208,
       "width": 136
      }
     },
     "output_type": "display_data"
    }
   ],
   "source": [
    "fig, ax = epistasis(initial.epistasis.values, initial.epistasis.labels, \n",
    "    figsize=(2,3),\n",
    "    y_axis_name=\"\",\n",
    "    height_ratio=1,\n",
    ")\n",
    "\n",
    "#fig.savefig(\n",
    "#    \"/Users/Zsailer/Dropbox/epistasis-paper/figures/fig-3/additive-coeffs.svg\", \n",
    "#    format=\"svg\", \n",
    "#    bbox_height=\"tight\"\n",
    "#)"
   ]
  },
  {
   "cell_type": "code",
   "execution_count": 141,
   "metadata": {
    "collapsed": false
   },
   "outputs": [],
   "source": [
    "shape = 2\n",
    "nonlinear = NonlinearSimulation.from_linear(initial, function=function, p0=(shape,))"
   ]
  },
  {
   "cell_type": "code",
   "execution_count": 147,
   "metadata": {
    "collapsed": false
   },
   "outputs": [
    {
     "data": {
      "image/png": "[encoded data removed]",
      "text/plain": [
       "<matplotlib.figure.Figure at 0x10ea41780>"
      ]
     },
     "metadata": {
      "image/png": {
       "height": 141,
       "width": 148
      }
     },
     "output_type": "display_data"
    }
   ],
   "source": [
    "fig, ax = plt.subplots(figsize=[2,2])\n",
    "\n",
    "x = np.linspace(min(nonlinear.phenotypes),  max(nonlinear.phenotypes), 100)\n",
    "y = nonlinear.function(x, *nonlinear.parameters.get_params())\n",
    "ax.plot(x, y, 'k-')\n",
    "ax.axis([-0.15,1.15,-0.15,1.15])\n",
    "ax.spines['bottom'].set_bounds(0,1.)\n",
    "ax.spines['left'].set_bounds(0,1.)\n",
    "ax.set_xticks([0,.5,1])\n",
    "fig.savefig(\"/Users/Zsailer/Dropbox/epistasis-paper/figures/fig-3/nonlinear-shape.svg\", format=\"svg\", bbox_height=\"tight\")"
   ]
  },
  {
   "cell_type": "code",
   "execution_count": null,
   "metadata": {},
   "outputs": [],
   "source": [
    "fig.savefig(\n",
    "    \"/Users/Zsailer/Dropbox/epistasis-paper/figures/fig-3/nonlinear-shape.svg\", \n",
    "    format=\"svg\", \n",
    "    bbox_height=\"tight\"\n",
    ")"
   ]
  },
  {
   "cell_type": "code",
   "execution_count": 143,
   "metadata": {
    "collapsed": true
   },
   "outputs": [],
   "source": [
    "model = LinearEpistasisModel.from_gpm(nonlinear, model_type=\"global\")\n",
    "model.fit()"
   ]
  },
  {
   "cell_type": "code",
   "execution_count": 148,
   "metadata": {
    "collapsed": false
   },
   "outputs": [
    {
     "data": {
      "image/png": "[encoded data removed]",
      "text/plain": [
       "<matplotlib.figure.Figure at 0x10ec66a58>"
      ]
     },
     "metadata": {
      "image/png": {
       "height": 208,
       "width": 208
      }
     },
     "output_type": "display_data"
    }
   ],
   "source": [
    "fig, ax = model.plot.epistasis(figsize=(3,3),     \n",
    "    y_axis_name=\"\",\n",
    "    height_ratio=4,\n",
    ")"
   ]
  },
  {
   "cell_type": "code",
   "execution_count": null,
   "metadata": {
    "collapsed": true
   },
   "outputs": [],
   "source": [
    "fig.savefig(\n",
    "    \"/Users/Zsailer/Dropbox/epistasis-paper/figures/fig-3/linear-fit-coeffs.svg\", \n",
    "    format=\"svg\", \n",
    "    bbox_height=\"tight\"\n",
    ")"
   ]
  }
 ],
 "metadata": {
  "kernelspec": {
   "display_name": "Python 3 (py3)",
   "language": "python",
   "name": "py3"
  },
  "language_info": {
   "codemirror_mode": {
    "name": "ipython",
    "version": 3
   },
   "file_extension": ".py",
   "mimetype": "text/x-python",
   "name": "python",
   "nbconvert_exporter": "python",
   "pygments_lexer": "ipython3",
   "version": "3.5.0"
  },
  "widgets": {
   "state": {},
   "version": "1.1.1"
  }
 },
 "nbformat": 4,
 "nbformat_minor": 0
}

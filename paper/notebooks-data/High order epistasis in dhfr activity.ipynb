{
 "cells": [
  {
   "cell_type": "markdown",
   "metadata": {},
   "source": [
    "# High order epistasis in malaria dhfr activity"
   ]
  },
  {
   "cell_type": "markdown",
   "metadata": {},
   "source": [
    "Initial imports. Download the `epistasis` package [here](https://www.github.com/harmslab/epistasis)"
   ]
  },
  {
   "cell_type": "code",
   "execution_count": 2,
   "metadata": {
    "collapsed": false
   },
   "outputs": [],
   "source": [
    "%matplotlib inline\n",
    "import matplotlib.pyplot as plt\n",
    "import numpy as np\n",
    "\n",
    "# Epistasis imports\n",
    "import json\n",
    "from epistasis.models.linear import LocalEpistasisModel\n",
    "from epistasis.models.regression import EpistasisRegression\n",
    "from epistasis.plotting import epistasis_bar, bar_with_xbox\n",
    "from seqspace.utils import DNA, AMINO_ACIDS"
   ]
  },
  {
   "cell_type": "markdown",
   "metadata": {},
   "source": [
    "Load data from `.json` and `.txt` file."
   ]
  },
  {
   "cell_type": "code",
   "execution_count": 3,
   "metadata": {
    "collapsed": false
   },
   "outputs": [],
   "source": [
    "PATH = \"../datasets/costanzo.json\"\n",
    "f = open(PATH, \"r\")\n",
    "data = json.load(f)\n",
    "f.close()"
   ]
  },
  {
   "cell_type": "markdown",
   "metadata": {},
   "source": [
    "Prepare the loaded data for epistasis model input (i.e. grab genotypes, phenotypes, etc.)"
   ]
  },
  {
   "cell_type": "code",
   "execution_count": 4,
   "metadata": {
    "collapsed": false
   },
   "outputs": [],
   "source": [
    "from seqspace.gpm import GenotypePhenotypeMap\n",
    "#genotypes = data[\"genotype\"]\n",
    "wildtype = \"000000\"\n",
    "#phenotypes = np.mean(data[[\"replicate 1\", \"replicate 2\", \"replicate 3\"]], axis=1)\n",
    "#errors = np.std(data[[\"replicate 1\", \"replicate 2\", \"replicate 3\"]], axis=1)/np.sqrt(3) # 12 replicates\n",
    "\n",
    "mutations = {\n",
    "    0:[\"0\",\"1\"],\n",
    "    1:[\"0\",\"1\"],\n",
    "    2:[\"0\",\"1\"],\n",
    "    3:[\"0\",\"1\",\"2\"],\n",
    "    4:[\"0\",\"1\"]\n",
    "}\n",
    "\n",
    "genotypes = np.array(data[\"genotypes\"])\n",
    "wildtype = genotypes[0]\n",
    "phenotypes = np.array(data[\"phenotypes\"])\n",
    "errors = data[\"errors\"]\n",
    "space = GenotypePhenotypeMap(wildtype, genotypes, phenotypes, mutations=mutations)\n",
    "genotypes = np.concatenate((genotypes,space.missing_genotypes))\n",
    "phenotypes = np.concatenate((phenotypes, np.ones(len(space.missing_genotypes))*-14.0))\n",
    "errors = np.concatenate((errors, np.zeros(len(space.missing_genotypes))))"
   ]
  },
  {
   "cell_type": "code",
   "execution_count": 5,
   "metadata": {
    "collapsed": false
   },
   "outputs": [],
   "source": [
    "model = LocalEpistasisModel(wildtype, genotypes, phenotypes, stdeviations=errors, log_transform=False, mutations=mutations)\n",
    "model.fit()\n",
    "model.fit_error()"
   ]
  },
  {
   "cell_type": "code",
   "execution_count": 7,
   "metadata": {
    "collapsed": false
   },
   "outputs": [
    {
     "data": {
      "image/png": "[encoded data removed]",
      "text/plain": [
       "<matplotlib.figure.Figure at 0x7f30970d2b70>"
      ]
     },
     "metadata": {},
     "output_type": "display_data"
    }
   ],
   "source": [
    "fig, ax = bar_with_xbox(model,y_axis_name=\"change in fitness\",height_ratio=9,figsize=(6,4),star_spacer=0.01)\n",
    "#fig.savefig(\"../../figures/costanzo_malarial_fitness_epistasis_pretty.svg\", format=\"svg\", dpi=300, bbox_inches='tight')"
   ]
  },
  {
   "cell_type": "code",
   "execution_count": null,
   "metadata": {
    "collapsed": true
   },
   "outputs": [],
   "source": []
  }
 ],
 "metadata": {
  "kernelspec": {
   "display_name": "py3",
   "language": "python",
   "name": "py3"
  },
  "language_info": {
   "codemirror_mode": {
    "name": "ipython",
    "version": 3
   },
   "file_extension": ".py",
   "mimetype": "text/x-python",
   "name": "python",
   "nbconvert_exporter": "python",
   "pygments_lexer": "ipython3",
   "version": "3.5.0"
  }
 },
 "nbformat": 4,
 "nbformat_minor": 0
}

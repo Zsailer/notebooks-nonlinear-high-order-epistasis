{
 "cells": [
  {
   "cell_type": "code",
   "execution_count": 6,
   "metadata": {
    "collapsed": true
   },
   "outputs": [],
   "source": [
    "%matplotlib inline\n",
    "import matplotlib.pyplot as plt\n",
    "import numpy as np\n",
    "from ipywidgets import interact"
   ]
  },
  {
   "cell_type": "markdown",
   "metadata": {},
   "source": [
    "## Saturation"
   ]
  },
  {
   "cell_type": "code",
   "execution_count": 9,
   "metadata": {
    "collapsed": true
   },
   "outputs": [],
   "source": [
    "def saturation_model(x, saturation, rate):\n",
    "    \"\"\" Saturation function where X is the linear epistasis model. \"\"\"\n",
    "    y = (saturation  * x / ( x + rate ))\n",
    "    return y"
   ]
  },
  {
   "cell_type": "code",
   "execution_count": 11,
   "metadata": {
    "collapsed": false
   },
   "outputs": [
    {
     "data": {
      "image/png": "[encoded data removed]",
      "text/plain": [
       "<matplotlib.figure.Figure at 0x107edb588>"
      ]
     },
     "metadata": {},
     "output_type": "display_data"
    }
   ],
   "source": [
    "@interact\n",
    "def saturation_plot(saturation=(-1,1,.1), rate=(-1,1,.1)):\n",
    "    x = np.linspace(-1,1, 1000)\n",
    "    y = saturation_model(x, saturation, rate)\n",
    "    plt.plot(x,y)\n",
    "    plt.xlabel(\"linear phenotypes\")\n",
    "    plt.ylabel(\"nonlinear phenotypes\")"
   ]
  },
  {
   "cell_type": "markdown",
   "metadata": {},
   "source": [
    "# Cooperativity"
   ]
  },
  {
   "cell_type": "code",
   "execution_count": 12,
   "metadata": {
    "collapsed": true
   },
   "outputs": [],
   "source": [
    "def hill_equation(x, rate, hill):\n",
    "    \"\"\" Saturation function where X is the linear epistasis model. \"\"\"\n",
    "    y = ( 1.0 / ((rate/x)**hill + 1))\n",
    "    return y"
   ]
  },
  {
   "cell_type": "code",
   "execution_count": 19,
   "metadata": {
    "collapsed": false
   },
   "outputs": [
    {
     "name": "stdout",
     "output_type": "stream",
     "text": [
      "[ 0.48267826  0.4829063   0.48313645  0.48336875  0.48360323  0.48383995\n",
      "  0.48407894  0.48432025  0.48456392  0.48480999  0.48505852  0.48530956\n",
      "  0.48556316  0.48581936  0.48607822  0.48633981  0.48660417  0.48687136\n",
      "  0.48714145  0.4874145   0.48769058  0.48796974  0.48825207  0.48853764\n",
      "  0.48882651  0.48911877  0.48941449  0.48971377  0.49001668  0.49032331\n",
      "  0.49063376  0.49094812  0.4912665   0.49158899  0.4919157   0.49224675\n",
      "  0.49258225  0.49292232  0.49326708  0.49361668  0.49397124  0.49433091\n",
      "  0.49469584  0.49506617  0.49544209  0.49582375  0.49621133  0.49660501\n",
      "  0.49700501  0.49741151  0.49782473  0.4982449   0.49867226  0.49910705\n",
      "  0.49954954  0.5         0.50045873  0.50092603  0.50140223  0.50188768\n",
      "  0.50238274  0.50288779  0.50340325  0.50392956  0.50446718  0.5050166\n",
      "  0.50557836  0.50615302  0.50674118  0.5073435   0.50796067  0.50859344\n",
      "  0.50924262  0.50990908  0.51059377  0.5112977   0.512022    0.51276786\n",
      "  0.51353662  0.51432972  0.51514876  0.51599547  0.51687181  0.51777991\n",
      "  0.51872216  0.51970123  0.52072011  0.52178218  0.52289125  0.52405169\n",
      "  0.52526848  0.52654737  0.52789504  0.52931932  0.53082945  0.53243646\n",
      "  0.53415363  0.53599721  0.53798732  0.54014932]\n"
     ]
    },
    {
     "data": {
      "image/png": "[encoded data removed]",
      "text/plain": [
       "<matplotlib.figure.Figure at 0x107ecddd8>"
      ]
     },
     "metadata": {},
     "output_type": "display_data"
    }
   ],
   "source": [
    "@interact\n",
    "def cooperativity_plot(rate=(-1,1,.1), hill=(-1,1,.1)):\n",
    "    x = np.linspace(-1,-.1, 100)\n",
    "    y = hill_equation(x, rate, hill)\n",
    "    plt.plot(x,y)\n",
    "    print(y)\n",
    "    plt.xlabel(\"linear phenotypes\")\n",
    "    plt.ylabel(\"nonlinear phenotypes\")"
   ]
  },
  {
   "cell_type": "code",
   "execution_count": null,
   "metadata": {
    "collapsed": true
   },
   "outputs": [],
   "source": []
  }
 ],
 "metadata": {
  "kernelspec": {
   "display_name": "Python 3",
   "language": "python",
   "name": "python3"
  },
  "language_info": {
   "codemirror_mode": {
    "name": "ipython",
    "version": 3
   },
   "file_extension": ".py",
   "mimetype": "text/x-python",
   "name": "python",
   "nbconvert_exporter": "python",
   "pygments_lexer": "ipython3",
   "version": "3.5.0"
  }
 },
 "nbformat": 4,
 "nbformat_minor": 0
}

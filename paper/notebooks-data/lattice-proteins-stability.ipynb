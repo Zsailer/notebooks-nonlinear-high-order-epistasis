{
 "cells": [
  {
   "cell_type": "markdown",
   "metadata": {},
   "source": [
    "# High order epistasis in protein lattice folding stability"
   ]
  },
  {
   "cell_type": "code",
   "execution_count": 1,
   "metadata": {
    "collapsed": false
   },
   "outputs": [],
   "source": [
    "%matplotlib inline\n",
    "import numpy as np\n",
    "import os\n",
    "import scipy.stats\n",
    "import matplotlib.pyplot as plt\n",
    "\n",
    "import matplotlib as mpl\n",
    "mpl.rcParams[\"font.family\"] = \"Arial\"\n",
    "mpl.rcParams[\"font.size\"] = 10\n",
    "\n",
    "from ipywidgets import interact\n",
    "# Lattice protein module\n",
    "from latticeproteins.sequences import * \n",
    "from latticeproteins.conformations import *\n",
    "from latticegpm import svg\n",
    "\n",
    "# Lattice sequence space mapping utils\n",
    "from latticegpm.utils import search_conformation_space, fold_energy\n",
    "from latticegpm.space import LatticeConformationSpace\n",
    "\n",
    "# Epistasis modelling package imports \n",
    "from epistasis.models.linear import LinearEpistasisModel\n",
    "from epistasis.models.specifier import LinearEpistasisSpecifier"
   ]
  },
  {
   "cell_type": "markdown",
   "metadata": {},
   "source": [
    "## Lattice protein sequence space\n",
    "\n",
    "Specify the length of sequences, the number of conformations in space, and the number of mutations in the space."
   ]
  },
  {
   "cell_type": "code",
   "execution_count": 2,
   "metadata": {
    "collapsed": false
   },
   "outputs": [],
   "source": [
    "length=12\n",
    "\n",
    "database_dir = \"database/\"\n",
    "conformations = Conformations(length, database_dir)#, interaction_energies=HP)"
   ]
  },
  {
   "cell_type": "code",
   "execution_count": 3,
   "metadata": {
    "collapsed": false,
    "scrolled": false
   },
   "outputs": [],
   "source": [
    "# Select two protein sequences that fold.\n",
    "s1 = 'YMQTKDVKWDRH'\n",
    "s2 = 'YCTTKPQKHDCH'\n",
    "\n",
    "# Set the temperature of the system.\n",
    "temperature = 0.1\n",
    "\n",
    "# Construct a sequence space\n",
    "full_seqspace = LatticeConformationSpace(s1, s2, conformations, temperature=temperature)\n",
    "\n",
    "# \n",
    "genotypes = full_seqspace.genotypes\n",
    "phenotypes = full_seqspace.phenotypes"
   ]
  },
  {
   "cell_type": "code",
   "execution_count": 4,
   "metadata": {
    "collapsed": false
   },
   "outputs": [
    {
     "data": {
      "image/svg+xml": [
       "<svg baseProfile=\"full\" height=\"132\" version=\"1.1\" width=\"132\" xmlns=\"http://www.w3.org/2000/svg\" xmlns:ev=\"http://www.w3.org/2001/xml-events\" xmlns:xlink=\"http://www.w3.org/1999/xlink\"><defs/><text style=\"font-size:12px;font-family:Courier\" x=\"3.0\" y=\"6.0\">.</text><text style=\"font-size:12px;font-family:Courier\" x=\"27.0\" y=\"6.0\">.</text><text style=\"font-size:12px;font-family:Courier\" x=\"51.0\" y=\"6.0\">.</text><text style=\"font-size:12px;font-family:Courier\" x=\"75.0\" y=\"6.0\">.</text><text style=\"font-size:12px;font-family:Courier\" x=\"99.0\" y=\"6.0\">.</text><text style=\"font-size:12px;font-family:Courier\" x=\"123.0\" y=\"6.0\">.</text><text style=\"font-size:12px;font-family:Courier\" x=\"3.0\" y=\"30.0\">.</text><text style=\"font-size:12px;font-family:Courier\" x=\"27.0\" y=\"30.0\">.</text><text style=\"font-size:12px;font-family:Courier\" x=\"51.0\" y=\"30.0\">.</text><text style=\"font-size:12px;font-family:Courier;fill:black\" x=\"74.7\" y=\"33.0\">D</text><line stroke=\"rgb(10%,10%,16%)\" style=\"stroke-width:1.2000000000000002\" x1=\"93.0\" x2=\"87.0\" y1=\"30.0\" y2=\"30.0\"/><text style=\"font-size:12px;font-family:Courier;fill:black\" x=\"98.7\" y=\"33.0\">K</text><text style=\"font-size:12px;font-family:Courier\" x=\"123.0\" y=\"30.0\">.</text><line stroke=\"rgb(10%,10%,16%)\" style=\"stroke-width:1.2000000000000002\" x1=\"78.0\" x2=\"78.0\" y1=\"45.0\" y2=\"39.0\"/><line stroke=\"rgb(10%,10%,16%)\" style=\"stroke-width:1.2000000000000002\" x1=\"102.0\" x2=\"102.0\" y1=\"39.0\" y2=\"45.0\"/><text style=\"font-size:12px;font-family:Courier\" x=\"3.0\" y=\"54.0\">.</text><text style=\"font-size:12px;font-family:Courier\" x=\"27.0\" y=\"54.0\">.</text><text style=\"font-size:12px;font-family:Courier;fill:black\" x=\"50.7\" y=\"57.0\">K</text><line stroke=\"rgb(10%,10%,16%)\" style=\"stroke-width:1.2000000000000002\" x1=\"69.0\" x2=\"63.0\" y1=\"54.0\" y2=\"54.0\"/><text style=\"font-size:12px;font-family:Courier;fill:black\" x=\"74.7\" y=\"57.0\">V</text><text style=\"font-size:12px;font-family:Courier;fill:black\" x=\"98.7\" y=\"57.0\">T</text><text style=\"font-size:12px;font-family:Courier\" x=\"123.0\" y=\"54.0\">.</text><line stroke=\"rgb(10%,10%,16%)\" style=\"stroke-width:1.2000000000000002\" x1=\"54.0\" x2=\"54.0\" y1=\"69.0\" y2=\"63.0\"/><line stroke=\"rgb(10%,10%,16%)\" style=\"stroke-width:1.2000000000000002\" x1=\"102.0\" x2=\"102.0\" y1=\"63.0\" y2=\"69.0\"/><text style=\"font-size:12px;font-family:Courier\" x=\"3.0\" y=\"78.0\">.</text><text style=\"font-size:12px;font-family:Courier;fill:black\" x=\"26.7\" y=\"81.0\">D</text><line stroke=\"rgb(10%,10%,16%)\" style=\"stroke-width:1.2000000000000002\" x1=\"45.0\" x2=\"39.0\" y1=\"78.0\" y2=\"78.0\"/><text style=\"font-size:12px;font-family:Courier;fill:black\" x=\"50.7\" y=\"81.0\">W</text><text style=\"font-size:12px;font-family:Courier;fill:black\" x=\"74.7\" y=\"81.0\">M</text><line stroke=\"rgb(10%,10%,16%)\" style=\"stroke-width:1.2000000000000002\" x1=\"87.0\" x2=\"93.0\" y1=\"78.0\" y2=\"78.0\"/><text style=\"font-size:12px;font-family:Courier;fill:black\" x=\"98.7\" y=\"81.0\">Q</text><text style=\"font-size:12px;font-family:Courier\" x=\"123.0\" y=\"78.0\">.</text><line stroke=\"rgb(10%,10%,16%)\" style=\"stroke-width:1.2000000000000002\" x1=\"30.0\" x2=\"30.0\" y1=\"93.0\" y2=\"87.0\"/><line stroke=\"rgb(10%,10%,16%)\" style=\"stroke-width:1.2000000000000002\" x1=\"78.0\" x2=\"78.0\" y1=\"87.0\" y2=\"93.0\"/><text style=\"font-size:12px;font-family:Courier\" x=\"3.0\" y=\"102.0\">.</text><text style=\"font-size:12px;font-family:Courier;fill:black\" x=\"26.7\" y=\"105.0\">R</text><line stroke=\"rgb(10%,10%,16%)\" style=\"stroke-width:1.2000000000000002\" x1=\"39.0\" x2=\"45.0\" y1=\"102.0\" y2=\"102.0\"/><text style=\"font-size:12px;font-family:Courier;fill:black\" x=\"50.7\" y=\"105.0\">H</text><text style=\"font-size:12px;font-family:Courier;fill:black\" x=\"74.7\" y=\"105.0\">Y</text><text style=\"font-size:12px;font-family:Courier\" x=\"99.0\" y=\"102.0\">.</text><text style=\"font-size:12px;font-family:Courier\" x=\"123.0\" y=\"102.0\">.</text><text style=\"font-size:12px;font-family:Courier\" x=\"3.0\" y=\"126.0\">.</text><text style=\"font-size:12px;font-family:Courier\" x=\"27.0\" y=\"126.0\">.</text><text style=\"font-size:12px;font-family:Courier\" x=\"51.0\" y=\"126.0\">.</text><text style=\"font-size:12px;font-family:Courier\" x=\"75.0\" y=\"126.0\">.</text><text style=\"font-size:12px;font-family:Courier\" x=\"99.0\" y=\"126.0\">.</text><text style=\"font-size:12px;font-family:Courier\" x=\"123.0\" y=\"126.0\">.</text></svg>"
      ],
      "text/plain": [
       "<IPython.core.display.SVG object>"
      ]
     },
     "execution_count": 4,
     "metadata": {},
     "output_type": "execute_result"
    }
   ],
   "source": [
    "mapping = full_seqspace.get_map(\"genotypes\", \"confs\")\n",
    "s1conf = svg.Configuration(s1, mapping[s1], fontsize=12, filename=\"conf1-talk.svg\")\n",
    "s1conf.notebook\n",
    "#s1conf.save()"
   ]
  },
  {
   "cell_type": "code",
   "execution_count": 5,
   "metadata": {
    "collapsed": false
   },
   "outputs": [
    {
     "data": {
      "image/svg+xml": [
       "<svg baseProfile=\"full\" height=\"108\" version=\"1.1\" width=\"132\" xmlns=\"http://www.w3.org/2000/svg\" xmlns:ev=\"http://www.w3.org/2001/xml-events\" xmlns:xlink=\"http://www.w3.org/1999/xlink\"><defs/><text style=\"font-size:12px;font-family:Courier\" x=\"3.0\" y=\"6.0\">.</text><text style=\"font-size:12px;font-family:Courier\" x=\"27.0\" y=\"6.0\">.</text><text style=\"font-size:12px;font-family:Courier\" x=\"51.0\" y=\"6.0\">.</text><text style=\"font-size:12px;font-family:Courier\" x=\"75.0\" y=\"6.0\">.</text><text style=\"font-size:12px;font-family:Courier\" x=\"99.0\" y=\"6.0\">.</text><text style=\"font-size:12px;font-family:Courier\" x=\"123.0\" y=\"6.0\">.</text><text style=\"font-size:12px;font-family:Courier\" x=\"3.0\" y=\"30.0\">.</text><text style=\"font-size:12px;font-family:Courier;fill:black\" x=\"26.7\" y=\"33.0\">D</text><line stroke=\"rgb(10%,10%,16%)\" style=\"stroke-width:1.2000000000000002\" x1=\"39.0\" x2=\"45.0\" y1=\"30.0\" y2=\"30.0\"/><text style=\"font-size:12px;font-family:Courier;fill:black\" x=\"50.7\" y=\"33.0\">C</text><text style=\"font-size:12px;font-family:Courier;fill:black\" x=\"74.7\" y=\"33.0\">C</text><line stroke=\"rgb(10%,10%,16%)\" style=\"stroke-width:1.2000000000000002\" x1=\"87.0\" x2=\"93.0\" y1=\"30.0\" y2=\"30.0\"/><text style=\"font-size:12px;font-family:Courier;fill:black\" x=\"98.7\" y=\"33.0\">T</text><text style=\"font-size:12px;font-family:Courier\" x=\"123.0\" y=\"30.0\">.</text><line stroke=\"rgb(10%,10%,16%)\" style=\"stroke-width:1.2000000000000002\" x1=\"30.0\" x2=\"30.0\" y1=\"39.0\" y2=\"45.0\"/><line stroke=\"rgb(10%,10%,16%)\" style=\"stroke-width:1.2000000000000002\" x1=\"54.0\" x2=\"54.0\" y1=\"45.0\" y2=\"39.0\"/><line stroke=\"rgb(10%,10%,16%)\" style=\"stroke-width:1.2000000000000002\" x1=\"78.0\" x2=\"78.0\" y1=\"39.0\" y2=\"45.0\"/><line stroke=\"rgb(10%,10%,16%)\" style=\"stroke-width:1.2000000000000002\" x1=\"102.0\" x2=\"102.0\" y1=\"45.0\" y2=\"39.0\"/><text style=\"font-size:12px;font-family:Courier\" x=\"3.0\" y=\"54.0\">.</text><text style=\"font-size:12px;font-family:Courier;fill:black\" x=\"26.7\" y=\"57.0\">H</text><text style=\"font-size:12px;font-family:Courier;fill:black\" x=\"50.7\" y=\"57.0\">H</text><text style=\"font-size:12px;font-family:Courier;fill:black\" x=\"74.7\" y=\"57.0\">Y</text><text style=\"font-size:12px;font-family:Courier;fill:black\" x=\"98.7\" y=\"57.0\">T</text><text style=\"font-size:12px;font-family:Courier\" x=\"123.0\" y=\"54.0\">.</text><line stroke=\"rgb(10%,10%,16%)\" style=\"stroke-width:1.2000000000000002\" x1=\"30.0\" x2=\"30.0\" y1=\"63.0\" y2=\"69.0\"/><line stroke=\"rgb(10%,10%,16%)\" style=\"stroke-width:1.2000000000000002\" x1=\"102.0\" x2=\"102.0\" y1=\"69.0\" y2=\"63.0\"/><text style=\"font-size:12px;font-family:Courier\" x=\"3.0\" y=\"78.0\">.</text><text style=\"font-size:12px;font-family:Courier;fill:black\" x=\"26.7\" y=\"81.0\">K</text><line stroke=\"rgb(10%,10%,16%)\" style=\"stroke-width:1.2000000000000002\" x1=\"45.0\" x2=\"39.0\" y1=\"78.0\" y2=\"78.0\"/><text style=\"font-size:12px;font-family:Courier;fill:black\" x=\"50.7\" y=\"81.0\">Q</text><line stroke=\"rgb(10%,10%,16%)\" style=\"stroke-width:1.2000000000000002\" x1=\"69.0\" x2=\"63.0\" y1=\"78.0\" y2=\"78.0\"/><text style=\"font-size:12px;font-family:Courier;fill:black\" x=\"74.7\" y=\"81.0\">P</text><line stroke=\"rgb(10%,10%,16%)\" style=\"stroke-width:1.2000000000000002\" x1=\"93.0\" x2=\"87.0\" y1=\"78.0\" y2=\"78.0\"/><text style=\"font-size:12px;font-family:Courier;fill:black\" x=\"98.7\" y=\"81.0\">K</text><text style=\"font-size:12px;font-family:Courier\" x=\"123.0\" y=\"78.0\">.</text><text style=\"font-size:12px;font-family:Courier\" x=\"3.0\" y=\"102.0\">.</text><text style=\"font-size:12px;font-family:Courier\" x=\"27.0\" y=\"102.0\">.</text><text style=\"font-size:12px;font-family:Courier\" x=\"51.0\" y=\"102.0\">.</text><text style=\"font-size:12px;font-family:Courier\" x=\"75.0\" y=\"102.0\">.</text><text style=\"font-size:12px;font-family:Courier\" x=\"99.0\" y=\"102.0\">.</text><text style=\"font-size:12px;font-family:Courier\" x=\"123.0\" y=\"102.0\">.</text></svg>"
      ],
      "text/plain": [
       "<IPython.core.display.SVG object>"
      ]
     },
     "execution_count": 5,
     "metadata": {},
     "output_type": "execute_result"
    }
   ],
   "source": [
    "s2conf = svg.Configuration(s2, mapping[s2], fontsize=12,filename=\"conf2-talk.svg\")\n",
    "s2conf.notebook\n",
    "#s2conf.save()"
   ]
  },
  {
   "cell_type": "markdown",
   "metadata": {},
   "source": [
    "## Linear epistasis model"
   ]
  },
  {
   "cell_type": "code",
   "execution_count": 6,
   "metadata": {
    "collapsed": false,
    "scrolled": false
   },
   "outputs": [
    {
     "data": {
      "text/plain": [
       "<matplotlib.text.Text at 0x10b2177f0>"
      ]
     },
     "execution_count": 6,
     "metadata": {},
     "output_type": "execute_result"
    },
    {
     "data": {
      "image/png": "[encoded data removed]",
      "text/plain": [
       "<matplotlib.figure.Figure at 0x10a1e4dd8>"
      ]
     },
     "metadata": {},
     "output_type": "display_data"
    }
   ],
   "source": [
    "local = LinearEpistasisModel(s1, genotypes, phenotypes)\n",
    "local.fit()\n",
    "fig, ax = local.Plot.interactions(sigmas=0, figsize=[3.5,3.5], height_ratio=10, ybounds=(-2.5,2.5))\n",
    "ax[0].set_ylabel(\"$\\\\beta$\")\n",
    "#fig.savefig(out_path + \"epistasis-lattice-full.svg\", format=\"svg\")"
   ]
  },
  {
   "cell_type": "markdown",
   "metadata": {},
   "source": [
    "### Model specifier"
   ]
  },
  {
   "cell_type": "code",
   "execution_count": 9,
   "metadata": {
    "collapsed": false
   },
   "outputs": [
    {
     "name": "stdout",
     "output_type": "stream",
     "text": [
      "0.747458821171\n",
      "3\n"
     ]
    }
   ],
   "source": [
    "specifier = LinearEpistasisSpecifier(s1, genotypes, phenotypes)\n",
    "specifier.fit()\n",
    "print(specifier.StatisticalTest.p_value)\n",
    "print(specifier.StatisticalTest.order)"
   ]
  },
  {
   "cell_type": "markdown",
   "metadata": {},
   "source": [
    "### Two state lattice model"
   ]
  },
  {
   "cell_type": "code",
   "execution_count": 57,
   "metadata": {
    "collapsed": false
   },
   "outputs": [
    {
     "data": {
      "text/plain": [
       "<matplotlib.text.Text at 0x10fd10b00>"
      ]
     },
     "execution_count": 57,
     "metadata": {},
     "output_type": "execute_result"
    },
    {
     "data": {
      "image/png": "[encoded data removed]",
      "text/plain": [
       "<matplotlib.figure.Figure at 0x10fe90cf8>"
      ]
     },
     "metadata": {},
     "output_type": "display_data"
    }
   ],
   "source": [
    "z = list(full_seqspace.unique_confs)[0:1]\n",
    "phenotypes = full_seqspace.redefine_partition(z)\n",
    "\n",
    "local = LinearEpistasisModel(s1, genotypes, phenotypes)\n",
    "local.fit()\n",
    "fig, ax = local.Plot.interactions(sigmas=0, figsize=[3.5,3.5], height_ratio=8, ybounds=(-2.5,2.5))\n",
    "ax[0].set_ylabel(\"$\\\\beta$\")\n",
    "#fig.savefig(out_path + \"epistasis-lattice-2state.svg\", format=\"svg\")"
   ]
  },
  {
   "cell_type": "markdown",
   "metadata": {},
   "source": [
    "### Three state lattice model"
   ]
  },
  {
   "cell_type": "code",
   "execution_count": 58,
   "metadata": {
    "collapsed": false
   },
   "outputs": [
    {
     "data": {
      "text/plain": [
       "<matplotlib.text.Text at 0x10eb79438>"
      ]
     },
     "execution_count": 58,
     "metadata": {},
     "output_type": "execute_result"
    },
    {
     "data": {
      "image/png": "[encoded data removed]",
      "text/plain": [
       "<matplotlib.figure.Figure at 0x10ea51d30>"
      ]
     },
     "metadata": {},
     "output_type": "display_data"
    }
   ],
   "source": [
    "z = list(full_seqspace.unique_confs)[0:2]\n",
    "phenotypes = full_seqspace.redefine_partition(z)\n",
    "local = LinearEpistasisModel(s1, genotypes, phenotypes)\n",
    "local.fit()\n",
    "fig, ax = local.Plot.interactions(sigmas=0, figsize=[3.5,3.5], height_ratio=8, ybounds=(-2.5,2.5))\n",
    "ax[0].set_ylabel(\"$\\\\beta$\")\n",
    "#fig.savefig(out_path + \"epistasis-lattice-3state.svg\", format=\"svg\")"
   ]
  },
  {
   "cell_type": "markdown",
   "metadata": {},
   "source": [
    "# High-order epistasis in fraction folded phenotype (saturates)"
   ]
  },
  {
   "cell_type": "markdown",
   "metadata": {},
   "source": [
    "Another observable phenotype in lattice model is fraction folded. \n",
    "\n",
    "$$\n",
    "F(\\Delta G, T) = \\frac{1}{1 + e^{\\Delta G / T}}\n",
    "$$"
   ]
  },
  {
   "cell_type": "code",
   "execution_count": 69,
   "metadata": {
    "collapsed": true
   },
   "outputs": [],
   "source": [
    "def fraction_folded(stability, T=1.0):\n",
    "    \"\"\" Calculate fraction unfolded. \"\"\"\n",
    "    return  1.0 / (1.0 + np.exp(stability/T))"
   ]
  },
  {
   "cell_type": "code",
   "execution_count": 70,
   "metadata": {
    "collapsed": false
   },
   "outputs": [],
   "source": [
    "new_seqspace = LatticeConformationSpace(s1, s2, conformations, temperature=temperature)\n",
    "new_seqspace.phenotypes = fraction_folded(new_seqspace.phenotypes, T=temperature)\n",
    "\n",
    "sat_genotypes = new_seqspace.genotypes\n",
    "sat_phenotypes = new_seqspace.phenotypes"
   ]
  },
  {
   "cell_type": "markdown",
   "metadata": {},
   "source": [
    "## Linear epistasis model"
   ]
  },
  {
   "cell_type": "code",
   "execution_count": 84,
   "metadata": {
    "collapsed": false
   },
   "outputs": [
    {
     "data": {
      "text/plain": [
       "<matplotlib.text.Text at 0x10eb79438>"
      ]
     },
     "execution_count": 84,
     "metadata": {},
     "output_type": "execute_result"
    },
    {
     "data": {
      "image/png": "[encoded data removed]",
      "text/plain": [
       "<matplotlib.figure.Figure at 0x1129bab00>"
      ]
     },
     "metadata": {},
     "output_type": "display_data"
    }
   ],
   "source": [
    "local = LinearEpistasisModel(s1, sat_genotypes, sat_phenotypes)\n",
    "local.fit()\n",
    "local.Plot.interactions(sigmas=0, figsize=[3.5,3.5], height_ratio=8, ybounds=(-2.5,2.5))\n",
    "ax[0].set_ylabel(\"$\\\\beta$\")\n",
    "#fig.savefig(out_path + \"epistasis-lattice-full.svg\", format=\"svg\")"
   ]
  },
  {
   "cell_type": "markdown",
   "metadata": {},
   "source": [
    "## Nonlinear epistasis model"
   ]
  },
  {
   "cell_type": "code",
   "execution_count": 62,
   "metadata": {
    "collapsed": true
   },
   "outputs": [],
   "source": [
    "from epistasis.models.nonlinear import NonlinearEpistasisModel"
   ]
  },
  {
   "cell_type": "code",
   "execution_count": 63,
   "metadata": {
    "collapsed": true
   },
   "outputs": [],
   "source": [
    "def saturation(x, saturation, rate):\n",
    "    \"\"\" Saturation function where X is the linear epistasis model. \"\"\"\n",
    "    y = (saturation  * x / ( x + rate ))\n",
    "    return y"
   ]
  },
  {
   "cell_type": "code",
   "execution_count": 66,
   "metadata": {
    "collapsed": false
   },
   "outputs": [
    {
     "name": "stdout",
     "output_type": "stream",
     "text": [
      "R-squared of fit: 0.992695010455\n",
      "rate: 5.82167803646e-05\n",
      "saturation: 0.996578146445\n"
     ]
    },
    {
     "data": {
      "image/png": "[encoded data removed]",
      "text/plain": [
       "<matplotlib.figure.Figure at 0x1108d2c50>"
      ]
     },
     "metadata": {},
     "output_type": "display_data"
    }
   ],
   "source": [
    "nonlinear = NonlinearEpistasisModel(s1, sat_genotypes, sat_phenotypes, \n",
    "    order=2, # Note second order epistasis is included, since we know lattice proteins are second-order systems\n",
    "    function=saturation)\n",
    "\n",
    "\n",
    "# Use fitting widget to easily fit data\n",
    "nonlinear.fit_widget(saturation=(0,1, .1), rate=(0,10))"
   ]
  },
  {
   "cell_type": "code",
   "execution_count": 74,
   "metadata": {
    "collapsed": false
   },
   "outputs": [
    {
     "data": {
      "text/plain": [
       "(<matplotlib.figure.Figure at 0x110a56d68>,\n",
       " [<matplotlib.axes._subplots.AxesSubplot at 0x1108909b0>,\n",
       "  <matplotlib.axes._subplots.AxesSubplot at 0x11144a0f0>])"
      ]
     },
     "execution_count": 74,
     "metadata": {},
     "output_type": "execute_result"
    },
    {
     "data": {
      "image/png": "[encoded data removed]",
      "text/plain": [
       "<matplotlib.figure.Figure at 0x110a56d68>"
      ]
     },
     "metadata": {},
     "output_type": "display_data"
    }
   ],
   "source": [
    "nonlinear.Plot.interactions(sigmas=0, height_ratio=2, figsize=(2,2.5), ybounds=(-2.5,2.5))"
   ]
  },
  {
   "cell_type": "code",
   "execution_count": 75,
   "metadata": {
    "collapsed": false
   },
   "outputs": [
    {
     "data": {
      "text/plain": [
       "(<matplotlib.figure.Figure at 0x110a71ef0>,\n",
       " <matplotlib.axes._subplots.AxesSubplot at 0x110764e10>)"
      ]
     },
     "execution_count": 75,
     "metadata": {},
     "output_type": "execute_result"
    },
    {
     "data": {
      "image/png": "[encoded data removed]",
      "text/plain": [
       "<matplotlib.figure.Figure at 0x110a71ef0>"
      ]
     },
     "metadata": {},
     "output_type": "display_data"
    }
   ],
   "source": [
    "nonlinear.Plot.linear_phenotypes()"
   ]
  }
 ],
 "metadata": {
  "kernelspec": {
   "display_name": "Python 3",
   "language": "python",
   "name": "python3"
  },
  "language_info": {
   "codemirror_mode": {
    "name": "ipython",
    "version": 3
   },
   "file_extension": ".py",
   "mimetype": "text/x-python",
   "name": "python",
   "nbconvert_exporter": "python",
   "pygments_lexer": "ipython3",
   "version": "3.5.0"
  }
 },
 "nbformat": 4,
 "nbformat_minor": 0
}

{
 "cells": [
  {
   "cell_type": "code",
   "execution_count": 1,
   "metadata": {
    "collapsed": false
   },
   "outputs": [],
   "source": [
    "%matplotlib inline\n",
    "import matplotlib.pyplot as plt\n",
    "\n",
    "import numpy as np\n",
    "import scipy as sp\n",
    "from ipywidgets import interact\n",
    "\n",
    "from epistasis.stats import pearson\n",
    "from epistasis.models import (LinearEpistasisModel, \n",
    "     NonlinearEpistasisModel, \n",
    "     LinearEpistasisRegression)"
   ]
  },
  {
   "cell_type": "code",
   "execution_count": 9,
   "metadata": {
    "collapsed": false
   },
   "outputs": [],
   "source": [
    "def power_transform_fit(x, lmbda, A, B):\n",
    "    gmean = sp.stats.mstats.gmean(x + A)\n",
    "    if lmbda == 0:\n",
    "        return gmean*np.log(x+A)\n",
    "    else:\n",
    "        first = (x+A)**lmbda\n",
    "        out = (first - 1.0)/(lmbda * gmean**(lmbda-1)) + B\n",
    "        return out"
   ]
  },
  {
   "cell_type": "code",
   "execution_count": 24,
   "metadata": {},
   "outputs": [],
   "source": [
    "dataset = \"hall_diploid_growth\"\n",
    "path_data = \"../../datasets/\" + dataset + \".json\""
   ]
  },
  {
   "cell_type": "code",
   "execution_count": 31,
   "metadata": {},
   "outputs": [
    {
     "name": "stdout",
     "output_type": "stream",
     "text": [
      "0.801376895261\n",
      "-0.730272777974 1.53078037249 0.793318062983\n"
     ]
    },
    {
     "name": "stderr",
     "output_type": "stream",
     "text": [
      "/Users/Zsailer/.virtualenvs/py3/lib/python3.5/site-packages/scipy/stats/stats.py:314: RuntimeWarning: invalid value encountered in log\n",
      "  log_a = np.log(a)\n",
      "/Users/Zsailer/.virtualenvs/py3/lib/python3.5/site-packages/ipykernel/__main__.py:7: RuntimeWarning: invalid value encountered in power\n"
     ]
    }
   ],
   "source": [
    "model = NonlinearEpistasisModel.from_json(\n",
    "    path_data,\n",
    "    order=1,\n",
    "    function = power_transform_fit,\n",
    "    log_transform=False,\n",
    "    fix_linear=True,\n",
    "    model_type=\"global\"                   \n",
    ")\n",
    "model.fit(A=3,B=2,lmbda=1)\n",
    "print(model.statistics.score)\n",
    "print(model.parameters.A, model.parameters.B, model.parameters.lmbda)"
   ]
  },
  {
   "cell_type": "code",
   "execution_count": 26,
   "metadata": {
    "collapsed": false,
    "scrolled": false
   },
   "outputs": [],
   "source": [
    "GMEAN = sp.stats.mstats.gmean(model.statistics.linear() + A)\n",
    "\n",
    "def power_transform(lmbda, A, B):\n",
    "    \"\"\"\"\"\"\n",
    "    if lmbda == 0:\n",
    "        return GMEAN*np.log(x+A)\n",
    "    else:\n",
    "        first = (x+A)**lmbda\n",
    "        out = (first - 1.0)/(lmbda * GMEAN**(lmbda-1)) + B\n",
    "        return out\n",
    "    \n",
    "def reverse_function(y, lmbda, A, B):\n",
    "    \"\"\"\"\"\"\n",
    "    return (GMEAN**(lmbda-1)*lmbda*(y - B) + 1)**(1/lmbda) - A\n"
   ]
  },
  {
   "cell_type": "code",
   "execution_count": 26,
   "metadata": {
    "collapsed": false,
    "scrolled": false
   },
   "outputs": [
    {
     "ename": "NameError",
     "evalue": "name 'A' is not defined",
     "output_type": "error",
     "traceback": [
      "\u001b[0;31m---------------------------------------------------------------------------\u001b[0m",
      "\u001b[0;31mNameError\u001b[0m                                 Traceback (most recent call last)",
      "\u001b[0;32m<ipython-input-26-124e63aed8b0>\u001b[0m in \u001b[0;36m<module>\u001b[0;34m()\u001b[0m\n\u001b[0;32m----> 1\u001b[0;31m \u001b[0mGMEAN\u001b[0m \u001b[0;34m=\u001b[0m \u001b[0msp\u001b[0m\u001b[0;34m.\u001b[0m\u001b[0mstats\u001b[0m\u001b[0;34m.\u001b[0m\u001b[0mmstats\u001b[0m\u001b[0;34m.\u001b[0m\u001b[0mgmean\u001b[0m\u001b[0;34m(\u001b[0m\u001b[0mmodel\u001b[0m\u001b[0;34m.\u001b[0m\u001b[0mstatistics\u001b[0m\u001b[0;34m.\u001b[0m\u001b[0mlinear\u001b[0m\u001b[0;34m(\u001b[0m\u001b[0;34m)\u001b[0m \u001b[0;34m+\u001b[0m \u001b[0mA\u001b[0m\u001b[0;34m)\u001b[0m\u001b[0;34m\u001b[0m\u001b[0m\n\u001b[0m\u001b[1;32m      2\u001b[0m \u001b[0;34m\u001b[0m\u001b[0m\n\u001b[1;32m      3\u001b[0m \u001b[0;32mdef\u001b[0m \u001b[0mpower_transform\u001b[0m\u001b[0;34m(\u001b[0m\u001b[0mlmbda\u001b[0m\u001b[0;34m,\u001b[0m \u001b[0mA\u001b[0m\u001b[0;34m,\u001b[0m \u001b[0mB\u001b[0m\u001b[0;34m)\u001b[0m\u001b[0;34m:\u001b[0m\u001b[0;34m\u001b[0m\u001b[0m\n\u001b[1;32m      4\u001b[0m     \u001b[0;34m\"\"\"\"\"\"\u001b[0m\u001b[0;34m\u001b[0m\u001b[0m\n\u001b[1;32m      5\u001b[0m     \u001b[0;32mif\u001b[0m \u001b[0mlmbda\u001b[0m \u001b[0;34m==\u001b[0m \u001b[0;36m0\u001b[0m\u001b[0;34m:\u001b[0m\u001b[0;34m\u001b[0m\u001b[0m\n",
      "\u001b[0;31mNameError\u001b[0m: name 'A' is not defined"
     ]
    }
   ],
   "source": [
    "phenotypes_ = reverse_function(model.phenotypes, *model.parameters.get_params())\n",
    "\n",
    "# Fit with high-order epistasis model\n",
    "linear = LinearEpistasisModel.from_gpm(model, model_type=\"global\")\n",
    "linear.phenotypes = phenotypes_\n",
    "linear.fit()"
   ]
  },
  {
   "cell_type": "code",
   "execution_count": 26,
   "metadata": {
    "collapsed": false,
    "scrolled": false
   },
   "outputs": [
    {
     "ename": "NameError",
     "evalue": "name 'A' is not defined",
     "output_type": "error",
     "traceback": [
      "\u001b[0;31m---------------------------------------------------------------------------\u001b[0m",
      "\u001b[0;31mNameError\u001b[0m                                 Traceback (most recent call last)",
      "\u001b[0;32m<ipython-input-26-124e63aed8b0>\u001b[0m in \u001b[0;36m<module>\u001b[0;34m()\u001b[0m\n\u001b[0;32m----> 1\u001b[0;31m \u001b[0mGMEAN\u001b[0m \u001b[0;34m=\u001b[0m \u001b[0msp\u001b[0m\u001b[0;34m.\u001b[0m\u001b[0mstats\u001b[0m\u001b[0;34m.\u001b[0m\u001b[0mmstats\u001b[0m\u001b[0;34m.\u001b[0m\u001b[0mgmean\u001b[0m\u001b[0;34m(\u001b[0m\u001b[0mmodel\u001b[0m\u001b[0;34m.\u001b[0m\u001b[0mstatistics\u001b[0m\u001b[0;34m.\u001b[0m\u001b[0mlinear\u001b[0m\u001b[0;34m(\u001b[0m\u001b[0;34m)\u001b[0m \u001b[0;34m+\u001b[0m \u001b[0mA\u001b[0m\u001b[0;34m)\u001b[0m\u001b[0;34m\u001b[0m\u001b[0m\n\u001b[0m\u001b[1;32m      2\u001b[0m \u001b[0;34m\u001b[0m\u001b[0m\n\u001b[1;32m      3\u001b[0m \u001b[0;32mdef\u001b[0m \u001b[0mpower_transform\u001b[0m\u001b[0;34m(\u001b[0m\u001b[0mlmbda\u001b[0m\u001b[0;34m,\u001b[0m \u001b[0mA\u001b[0m\u001b[0;34m,\u001b[0m \u001b[0mB\u001b[0m\u001b[0;34m)\u001b[0m\u001b[0;34m:\u001b[0m\u001b[0;34m\u001b[0m\u001b[0m\n\u001b[1;32m      4\u001b[0m     \u001b[0;34m\"\"\"\"\"\"\u001b[0m\u001b[0;34m\u001b[0m\u001b[0m\n\u001b[1;32m      5\u001b[0m     \u001b[0;32mif\u001b[0m \u001b[0mlmbda\u001b[0m \u001b[0;34m==\u001b[0m \u001b[0;36m0\u001b[0m\u001b[0;34m:\u001b[0m\u001b[0;34m\u001b[0m\u001b[0m\n",
      "\u001b[0;31mNameError\u001b[0m: name 'A' is not defined"
     ]
    }
   ],
   "source": [
    "GMEAN = sp.stats.mstats.gmean(model.statistics.linear() + A)\n",
    "\n",
    "def power_transform(lmbda, A, B):\n",
    "    \"\"\"\"\"\"\n",
    "    if lmbda == 0:\n",
    "        return GMEAN*np.log(x+A)\n",
    "    else:\n",
    "        first = (x+A)**lmbda\n",
    "        out = (first - 1.0)/(lmbda * GMEAN**(lmbda-1)) + B\n",
    "        return out\n",
    "    \n",
    "def reverse_function(y, lmbda, A, B):\n",
    "    \"\"\"\"\"\"\n",
    "    return (GMEAN**(lmbda-1)*lmbda*(y - B) + 1)**(1/lmbda) - A\n",
    "\n",
    "phenotypes_ = reverse_function(model.phenotypes, *model.parameters.get_params())\n",
    "\n",
    "# Fit with high-order epistasis model\n",
    "linear = LinearEpistasisModel.from_gpm(model, model_type=\"global\")\n",
    "linear.phenotypes = phenotypes_\n",
    "linear.fit()"
   ]
  },
  {
   "cell_type": "code",
   "execution_count": null,
   "metadata": {},
   "outputs": [],
   "source": []
  },
  {
   "cell_type": "code",
   "execution_count": 11,
   "metadata": {
    "collapsed": false
   },
   "outputs": [
    {
     "data": {
      "text/plain": [
       "[]"
      ]
     },
     "execution_count": 11,
     "metadata": {},
     "output_type": "execute_result"
    },
    {
     "data": {
      "image/png": "[encoded data removed]",
      "text/plain": [
       "<matplotlib.figure.Figure at 0x10aef5d68>"
      ]
     },
     "metadata": {},
     "output_type": "display_data"
    }
   ],
   "source": [
    "# Input\n",
    "xdata = model.statistics.linear()\n",
    "ydata = model.phenotypes\n",
    "yerr =  model.std.upper\n",
    "fdata = model.statistics.predict()\n",
    "\n",
    "# dimensions\n",
    "\n",
    "# khan\n",
    "#datays = [.6,1.0]\n",
    "#residualys = [-.2,.2]\n",
    "#yticks = np.linspace(datays[0], datays[1],5)\n",
    "#xticks = yticks\n",
    "\n",
    "# krug\n",
    "#datays = [.6,1.0]\n",
    "#residualys = [-.2,.2]\n",
    "#yticks = np.linspace(datays[0], datays[1],5)\n",
    "#xticks = yticks\n",
    "\n",
    "# weinreich\n",
    "#datays = [.9,1.4]\n",
    "#residualys = [-.1,.1]\n",
    "#yticks = np.linspace(datays[0], datays[1],6)\n",
    "#xticks = yticks\n",
    "\n",
    "#anderson\n",
    "#datays = [4,10]\n",
    "#residualys = [-2,2]\n",
    "#yticks = np.linspace(datays[0], datays[1],7)\n",
    "#xticks = yticks\n",
    "\n",
    "# hall haploid\n",
    "datays = [.7,1.1]\n",
    "residualys = [-.2,.2]\n",
    "yticks = np.linspace(datays[0], datays[1],5)\n",
    "xticks = yticks\n",
    "\n",
    "import matplotlib.gridspec as gridspec\n",
    "\n",
    "# Set up grid for plot\n",
    "f = plt.figure(figsize=(3,3))\n",
    "gs = gridspec.GridSpec(8,5)\n",
    "gs.update(hspace=0.7)\n",
    "corr = plt.subplot(gs[:5,:3])\n",
    "resid = plt.subplot(gs[5:,:3])\n",
    "hist = plt.subplot(gs[5:,3:4])\n",
    "\n",
    "###################### Draw the correlation plots ##########################\n",
    "errors = [model.std.lower, model.std.upper]\n",
    "corr.errorbar(model.statistics.linear(), model.phenotypes, \n",
    "    yerr=errors,\n",
    "    color='k', \n",
    "    fmt=\".\",\n",
    "    ecolor=\"gray\",\n",
    "    elinewidth=.5,\n",
    "    zorder=0,\n",
    "    markersize=3\n",
    ")\n",
    "x = np.linspace(min(model.statistics.linear()), max(model.statistics.linear()))\n",
    "y = model.function(x, *model.parameters.get_params())\n",
    "corr.plot(x, y, color='r')\n",
    "corr.plot(x, x, \":\", color=\"gray\")\n",
    "\n",
    "# styling of the axis\n",
    "corr.spines[\"right\"].set_visible(False)\n",
    "corr.spines[\"top\"].set_visible(False)\n",
    "corr.spines[\"bottom\"].set_visible(False)\n",
    "corr.set_xticks([])\n",
    "corr.set_yticks(yticks)\n",
    "corr.set_xlim(*datays)\n",
    "corr.set_ylim(*datays)\n",
    "#corr.set_xlim(*datays)\n",
    "x2 = np.linspace(*datays, 10)\n",
    "corr.plot(x2, x2, \":\", color=\"gray\")\n",
    "\n",
    "corr.axis('equal')\n",
    "\n",
    "#xticks = corr.get_yticks()\n",
    "#print(xticks)\n",
    "#print(corr.axis())\n",
    "\n",
    "#print(corr.axis([datays[0],datays[1],datays[0],datays[1]]))\n",
    "\n",
    "###################### Draw the residual plots ##########################\n",
    "residuals = ydata - fdata\n",
    "resid.errorbar(xdata, residuals, \n",
    "    color='k', \n",
    "    yerr=errors, \n",
    "    fmt=\".\", \n",
    "    ecolor=\"gray\",\n",
    "    elinewidth=.5,\n",
    "    markersize=3,\n",
    ")\n",
    "#resid.set_yticks([-ys,ys])\n",
    "resid.set_xlim(*datays)\n",
    "resid.set_ylim(*residualys)\n",
    "resid.set_xticks(yticks)\n",
    "\n",
    "#resid.set_xticks(xticks)\n",
    "#resid.set_xbound(xticks[0], xticks[-1])\n",
    "residax = resid.axis()\n",
    "resid.hlines(0, residax[0], residax[1], linestyle=\"-\", color=\"gray\", linewidth=.5)\n",
    "#resid.spines[\"bottom\"].set_bounds(xticks[0], xticks[-1])\n",
    "\n",
    "\n",
    "###################### Draw the histogram plots ##########################\n",
    "counts, bins, patch  = hist.hist(residuals, \n",
    "    bins=10,\n",
    "    orientation=\"horizontal\", \n",
    "    color=\"black\"\n",
    ")\n",
    "\n",
    "hist.set_yticks((residax[0], residax[1]))\n",
    "val = np.mean(residuals)\n",
    "hist.hlines(val, 0, max(counts), linestyle=\"-\", color=\"r\", linewidth=.8)\n",
    "hist.spines[\"right\"].set_visible(False)\n",
    "hist.spines[\"top\"].set_visible(False)\n",
    "hist.spines[\"bottom\"].set_visible(False)\n",
    "hist.spines[\"left\"].set_visible(False)\n",
    "hist.set_ylim(*residualys)\n",
    "hist.set_yticks([])\n",
    "hist.set_xticks([])\n"
   ]
  },
  {
   "cell_type": "code",
   "execution_count": 250,
   "metadata": {
    "collapsed": true
   },
   "outputs": [],
   "source": [
    "f.savefig(\"/Users/Zsailer/Dropbox/epistasis-paper/supplement/s-02/\" + dataset + \"-corr.svg\", format=\"svg\", bbox_height=\"tight\")"
   ]
  },
  {
   "cell_type": "code",
   "execution_count": 220,
   "metadata": {
    "collapsed": false
   },
   "outputs": [],
   "source": [
    "f.savefig(\"/Users/Zsailer/Dropbox/epistasis-paper/figures/fig-5/\" + dataset + \"-corr.svg\", format=\"svg\", bbox_height=\"tight\")"
   ]
  },
  {
   "cell_type": "code",
   "execution_count": 48,
   "metadata": {
    "collapsed": false,
    "scrolled": false
   },
   "outputs": [
    {
     "data": {
      "text/plain": [
       "[<matplotlib.lines.Line2D at 0x10bc9a898>]"
      ]
     },
     "execution_count": 48,
     "metadata": {},
     "output_type": "execute_result"
    },
    {
     "data": {
      "image/png": "[encoded data removed]",
      "text/plain": [
       "<matplotlib.figure.Figure at 0x10bc7f320>"
      ]
     },
     "metadata": {},
     "output_type": "display_data"
    }
   ],
   "source": [
    "fig, ax = plt.subplots(figsize=(2,2.01))\n",
    "\n",
    "# Draw errorbars first\n",
    "errors = [model.std.lower, model.std.upper]\n",
    "ax.errorbar(model.statistics.linear(), model.phenotypes, \n",
    "    yerr=errors,\n",
    "    color='k', \n",
    "    fmt=\".\",\n",
    "    ecolor=\"gray\",\n",
    "    elinewidth=1,\n",
    "    zorder=0\n",
    ")\n",
    "\n",
    "x = np.linspace(min(model.statistics.linear()), max(model.statistics.linear()))\n",
    "y = model.function(x, *model.parameters.get_params())\n",
    "ax.plot(x, y, color='r')#, zorder=)"
   ]
  },
  {
   "cell_type": "code",
   "execution_count": 53,
   "metadata": {
    "collapsed": false
   },
   "outputs": [
    {
     "data": {
      "image/png": "[encoded data removed]",
      "text/plain": [
       "<matplotlib.figure.Figure at 0x10bc7f320>"
      ]
     },
     "execution_count": 53,
     "metadata": {},
     "output_type": "execute_result"
    }
   ],
   "source": [
    "#weinreich\n",
    "ax.axis(\"equal\")\n",
    "ax.axis([.9, 1.4, .9,1.415])\n",
    "ax.set_xticks(np.linspace(.9,1.4,6))\n",
    "ax.set_yticks(np.linspace(.9,1.4,6))\n",
    "fig"
   ]
  },
  {
   "cell_type": "code",
   "execution_count": 281,
   "metadata": {
    "collapsed": false
   },
   "outputs": [
    {
     "data": {
      "image/png": "[encoded data removed]",
      "text/plain": [
       "<matplotlib.figure.Figure at 0x1055c35c0>"
      ]
     },
     "execution_count": 281,
     "metadata": {},
     "output_type": "execute_result"
    }
   ],
   "source": [
    "#krug2\n",
    "ax.axis(\"equal\")\n",
    "ax.axis([.55, 1.05, .55,1.05])\n",
    "ax.set_xticks(np.linspace(.6,1,5))\n",
    "ax.set_yticks(np.linspace(.6,1,5))\n",
    "fig"
   ]
  },
  {
   "cell_type": "code",
   "execution_count": 124,
   "metadata": {
    "collapsed": false
   },
   "outputs": [
    {
     "data": {
      "image/png": "[encoded data removed]",
      "text/plain": [
       "<matplotlib.figure.Figure at 0x10d222278>"
      ]
     },
     "execution_count": 124,
     "metadata": {},
     "output_type": "execute_result"
    }
   ],
   "source": [
    "#khan\n",
    "ax.axis(\"equal\")\n",
    "ax.axis([.96, 1.4, .96,1.41])\n",
    "ax.set_xticks(np.linspace(1,1.4,5))\n",
    "ax.set_yticks(np.linspace(1,1.4,5))\n",
    "fig"
   ]
  },
  {
   "cell_type": "code",
   "execution_count": null,
   "metadata": {
    "collapsed": true
   },
   "outputs": [],
   "source": [
    "#anderson\n",
    "ax.axis(\"equal\")\n",
    "ax.axis([4.5,10.1,4.5,10.1])\n",
    "ax.set_xticks(np.linspace(5,10,6))\n",
    "ax.set_yticks(np.linspace(5,10,6))"
   ]
  },
  {
   "cell_type": "code",
   "execution_count": 282,
   "metadata": {
    "collapsed": false
   },
   "outputs": [],
   "source": [
    "fig.savefig(\"/Users/Zsailer/Dropbox/epistasis-paper/figures/fig-5/\"+dataset+\"-curve.svg\", format=\"svg\", bbox_height=\"tight\")"
   ]
  },
  {
   "cell_type": "code",
   "execution_count": 46,
   "metadata": {
    "collapsed": false
   },
   "outputs": [
    {
     "data": {
      "text/plain": [
       "(<matplotlib.figure.Figure at 0x10c784f98>,\n",
       " [<matplotlib.axes._subplots.AxesSubplot at 0x10c764908>,\n",
       "  <matplotlib.axes._subplots.AxesSubplot at 0x10c8164e0>])"
      ]
     },
     "execution_count": 46,
     "metadata": {},
     "output_type": "execute_result"
    },
    {
     "data": {
      "image/png": "[encoded data removed]",
      "text/plain": [
       "<matplotlib.figure.Figure at 0x10c784f98>"
      ]
     },
     "metadata": {},
     "output_type": "display_data"
    }
   ],
   "source": [
    "linear.plot.epistasis(figsize=(12,5))"
   ]
  },
  {
   "cell_type": "markdown",
   "metadata": {},
   "source": [
    "khan 0.94 0.98 0.94 0.98\n",
    "krug1 0.68 0.79 0.70 0.79\n",
    "krug2 0.89 0.90 0.91\n",
    "weinreich 0.79 0.91 0.91 0.91\n",
    "hall haploid\n",
    "hall diploid\n"
   ]
  },
  {
   "cell_type": "code",
   "execution_count": 162,
   "metadata": {
    "collapsed": false,
    "scrolled": false
   },
   "outputs": [],
   "source": [
    "z = list(linear.epistasis.values)"
   ]
  },
  {
   "cell_type": "code",
   "execution_count": 163,
   "metadata": {
    "collapsed": false
   },
   "outputs": [
    {
     "data": {
      "text/plain": [
       "(<matplotlib.figure.Figure at 0x113845b00>,\n",
       " [<matplotlib.axes._subplots.AxesSubplot at 0x11384cc18>,\n",
       "  <matplotlib.axes._subplots.AxesSubplot at 0x1138f0978>])"
      ]
     },
     "execution_count": 163,
     "metadata": {},
     "output_type": "execute_result"
    },
    {
     "data": {
      "image/png": "[encoded data removed]",
      "text/plain": [
       "<matplotlib.figure.Figure at 0x113845b00>"
      ]
     },
     "metadata": {},
     "output_type": "display_data"
    }
   ],
   "source": [
    "lin = LinearEpistasisModel.from_json(\"datasets/\"+dataset+\".json\", \n",
    "    log_transform=False,\n",
    "    model_type=\"global\",\n",
    ")\n",
    "lin.fit()\n",
    "lin.plot.epistasis()"
   ]
  },
  {
   "cell_type": "code",
   "execution_count": 137,
   "metadata": {
    "collapsed": false
   },
   "outputs": [
    {
     "data": {
      "image/png": "[encoded data removed]",
      "text/plain": [
       "<matplotlib.figure.Figure at 0x112513668>"
      ]
     },
     "metadata": {},
     "output_type": "display_data"
    }
   ],
   "source": [
    "fig, ax = plt.subplots(figsize=(3,3))\n",
    "\n",
    "orders = range(1, model.length+1)\n",
    "colors = (\"red\",\"orange\",\"green\",\"purple\",\"DeepSkyBlue\",\"yellow\",\"pink\")\n",
    "for o in orders:\n",
    "    z = linear.epistasis.getorder[o].values\n",
    "    z2 = lin.epistasis.getorder[o].values\n",
    "    ax.plot(z2, z, '.', markersize=5, color=colors[o-1])\n",
    "\n",
    "ax.axis(\"equal\")\n",
    "ax.axis([-.002, .002, -0.002, 0.002])\n",
    "#plt.axis(\"equal\")\n",
    "size = ax.axis()\n",
    "t = np.linspace(size[0],size[1], 10)\n",
    "ax.plot(t,t, \":\", color=\"gray\", zorder=0)\n",
    "ax.hlines(0, -1,1, linewidth=.5)\n",
    "ax.vlines(0, -1,1, linewidth=.5)\n",
    "fig.savefig(\"/Users/Zsailer/Dropbox/epistasis-paper/figures/fig-7/\"+dataset+\".svg\", format=\"svg\", bbox_height=\"tight\")"
   ]
  }
 ],
 "metadata": {
  "kernelspec": {
   "display_name": "Python 3 (py3)",
   "language": "python",
   "name": "py3"
  },
  "language_info": {
   "codemirror_mode": {
    "name": "ipython",
    "version": 3
   },
   "file_extension": ".py",
   "mimetype": "text/x-python",
   "name": "python",
   "nbconvert_exporter": "python",
   "pygments_lexer": "ipython3",
   "version": "3.5.0"
  },
  "widgets": {
   "state": {
    "556f66b1154b47afae8bf2f9065c6cf4": {
     "views": [
      {
       "cell_index": 4
      }
     ]
    }
   },
   "version": "1.2.0"
  }
 },
 "nbformat": 4,
 "nbformat_minor": 0
}

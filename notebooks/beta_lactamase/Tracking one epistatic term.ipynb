{
 "cells": [
  {
   "cell_type": "markdown",
   "metadata": {},
   "source": [
    "# Weinreich's landscape"
   ]
  },
  {
   "cell_type": "code",
   "execution_count": 1,
   "metadata": {
    "collapsed": false
   },
   "outputs": [],
   "source": [
    "%matplotlib inline\n",
    "import matplotlib.pyplot as plt\n",
    "import numpy as np\n",
    "from data_sets import *\n",
    "import networkx as nx\n",
    "from epistasis.models import LocalEpistasisModel, ProjectedEpistasisModel\n",
    "from epistasis.plotting import epistasis_barh\n",
    "from epistasis.knockout import KnockoutModel\n",
    "from weinreich import *\n",
    "from graph_pos import INIT_POS"
   ]
  },
  {
   "cell_type": "markdown",
   "metadata": {},
   "source": [
    "Weinreich's sequence space."
   ]
  },
  {
   "cell_type": "code",
   "execution_count": 2,
   "metadata": {
    "collapsed": false
   },
   "outputs": [],
   "source": [
    "space = WeinreichFitnesses(sequence5, rank5)\n",
    "space.generate_fitnesses(100)"
   ]
  },
  {
   "cell_type": "markdown",
   "metadata": {},
   "source": [
    "Track a pairwise interaction as the order of the model increases."
   ]
  },
  {
   "cell_type": "code",
   "execution_count": 4,
   "metadata": {
    "collapsed": false
   },
   "outputs": [],
   "source": [
    "interaction = '011,041'\n",
    "wildtype = '00000'\n",
    "genotypes = space.sequences\n",
    "phenotypes = space.fitnesses\n",
    "errors = space.errors\n",
    "vals = list()\n",
    "for i in range(2,6):\n",
    "    model = ProjectedEpistasisModel(wildtype, genotypes, phenotypes, regression_order=i, log_phenotypes=True)\n",
    "    model.estimate_interactions()\n",
    "    vals.append(model.get_order(2)[interaction])"
   ]
  },
  {
   "cell_type": "markdown",
   "metadata": {},
   "source": [
    "Plot the interaction as model increases."
   ]
  },
  {
   "cell_type": "code",
   "execution_count": 31,
   "metadata": {
    "collapsed": false
   },
   "outputs": [
    {
     "data": {
      "text/plain": [
       "<matplotlib.text.Text at 0x10adddda0>"
      ]
     },
     "execution_count": 31,
     "metadata": {},
     "output_type": "execute_result"
    },
    {
     "data": {
      "image/png": "[encoded data removed]",
      "text/plain": [
       "<matplotlib.figure.Figure at 0x10b27a400>"
      ]
     },
     "metadata": {},
     "output_type": "display_data"
    }
   ],
   "source": [
    "f = plt.figure(dpi=500)\n",
    "plt.plot(range(2,6), vals, 'o-')\n",
    "plt.hlines(0, 2,6, linestyles='dashed')\n",
    "plt.axis([2,6,-0.02,0.02])\n",
    "plt.xlabel(\"Order of Model\")\n",
    "plt.ylabel(\"Estimated values for epistasis\")\n",
    "plt.title(\"A42G,G238S -- 2nd-order epistatic interaction\")"
   ]
  },
  {
   "cell_type": "code",
   "execution_count": 20,
   "metadata": {
    "collapsed": false
   },
   "outputs": [],
   "source": [
    "model = ProjectedEpistasisModel(wildtype, genotypes, phenotypes, regression_order=2, log_phenotypes=True)\n",
    "model.estimate_interactions()\n",
    "z = model.Interactions.key2value"
   ]
  },
  {
   "cell_type": "code",
   "execution_count": 16,
   "metadata": {
    "collapsed": false
   },
   "outputs": [],
   "source": [
    "model = ProjectedEpistasisModel(wildtype, genotypes, phenotypes, regression_order=6, log_phenotypes=True)\n",
    "model.estimate_interactions()\n",
    "y = model.Interactions.key2value"
   ]
  },
  {
   "cell_type": "code",
   "execution_count": 18,
   "metadata": {
    "collapsed": false
   },
   "outputs": [
    {
     "name": "stdout",
     "output_type": "stream",
     "text": [
      "-0.00519120390742\n",
      "-0.00554318014946\n",
      "0.0045720673447\n"
     ]
    }
   ],
   "source": [
    "print(z['1'])\n",
    "print(z['4'])\n",
    "print(z['1,4'])"
   ]
  },
  {
   "cell_type": "code",
   "execution_count": 17,
   "metadata": {
    "collapsed": false
   },
   "outputs": [
    {
     "name": "stdout",
     "output_type": "stream",
     "text": [
      "1.21430643318e-17\n",
      "-0.00325324366594\n",
      "0.00325324366594\n"
     ]
    }
   ],
   "source": [
    "print(y['1'])\n",
    "print(y['4'])\n",
    "print(y['1,4'])"
   ]
  },
  {
   "cell_type": "code",
   "execution_count": 33,
   "metadata": {
    "collapsed": false
   },
   "outputs": [],
   "source": [
    "f.savefig(\"second_order.png\", dpi=500)"
   ]
  }
 ],
 "metadata": {
  "kernelspec": {
   "display_name": "Python 3",
   "language": "python",
   "name": "python3"
  },
  "language_info": {
   "codemirror_mode": {
    "name": "ipython",
    "version": 3
   },
   "file_extension": ".py",
   "mimetype": "text/x-python",
   "name": "python",
   "nbconvert_exporter": "python",
   "pygments_lexer": "ipython3",
   "version": "3.4.3"
  }
 },
 "nbformat": 4,
 "nbformat_minor": 0
}

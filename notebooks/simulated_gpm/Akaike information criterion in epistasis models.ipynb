{
 "cells": [
  {
   "cell_type": "markdown",
   "metadata": {},
   "source": [
    "# Akaike information criterion (AIC) in epistasis models\n",
    "\n",
    "Analyzing model selection when studying high order epistasis."
   ]
  },
  {
   "cell_type": "code",
   "execution_count": 25,
   "metadata": {
    "collapsed": false
   },
   "outputs": [],
   "source": [
    "# plotting imports\n",
    "%matplotlib inline\n",
    "import matplotlib.pyplot as plt\n",
    "import numpy as np\n",
    "\n",
    "# imports from epistasis package\n",
    "from epistasis.artificial import ArtificialMap\n",
    "from epistasis.models import ProjectedEpistasisModel\n",
    "from epistasis.utils import build_interaction_labels, epistatic_order_indices\n",
    "from epistasis.plotting import epistasis_bar"
   ]
  },
  {
   "cell_type": "markdown",
   "metadata": {},
   "source": [
    "Computationally generate genotype-phenotype map"
   ]
  },
  {
   "cell_type": "code",
   "execution_count": 2,
   "metadata": {
    "collapsed": true
   },
   "outputs": [],
   "source": [
    "length = 6\n",
    "order = 6\n",
    "data = ArtificialMap(length, order)"
   ]
  },
  {
   "cell_type": "code",
   "execution_count": 14,
   "metadata": {
    "collapsed": false
   },
   "outputs": [],
   "source": [
    "labels = build_interaction_labels(length, order)"
   ]
  },
  {
   "cell_type": "code",
   "execution_count": 10,
   "metadata": {
    "collapsed": false
   },
   "outputs": [],
   "source": [
    "model = ProjectedEpistasisModel(data.wildtype, data.genotypes, data.phenotypes, parameters=labels)"
   ]
  },
  {
   "cell_type": "code",
   "execution_count": 11,
   "metadata": {
    "collapsed": true
   },
   "outputs": [],
   "source": [
    "model.fit()"
   ]
  },
  {
   "cell_type": "code",
   "execution_count": 7,
   "metadata": {
    "collapsed": false
   },
   "outputs": [
    {
     "data": {
      "text/plain": [
       "(<matplotlib.figure.Figure at 0x10a94eb38>,\n",
       " <matplotlib.axes._subplots.AxesSubplot at 0x10a96f4a8>)"
      ]
     },
     "execution_count": 7,
     "metadata": {},
     "output_type": "execute_result"
    },
    {
     "data": {
      "image/png": "[encoded data removed]",
      "text/plain": [
       "<matplotlib.figure.Figure at 0x10a94eb38>"
      ]
     },
     "metadata": {},
     "output_type": "display_data"
    }
   ],
   "source": [
    "epistasis_bar(model)"
   ]
  },
  {
   "cell_type": "code",
   "execution_count": 12,
   "metadata": {
    "collapsed": false
   },
   "outputs": [
    {
     "data": {
      "text/plain": [
       "(<matplotlib.figure.Figure at 0x10a9d2780>,\n",
       " <matplotlib.axes._subplots.AxesSubplot at 0x10a94e588>)"
      ]
     },
     "execution_count": 12,
     "metadata": {},
     "output_type": "execute_result"
    },
    {
     "data": {
      "image/png": "[encoded data removed]",
      "text/plain": [
       "<matplotlib.figure.Figure at 0x10a9d2780>"
      ]
     },
     "metadata": {},
     "output_type": "display_data"
    }
   ],
   "source": [
    "epistasis_bar(model)"
   ]
  },
  {
   "cell_type": "markdown",
   "metadata": {},
   "source": [
    "## Calculating the Akaike information criterion metric\n",
    "\n",
    "AIC provides a metric is maximum likelihood approach that explicitly avoids overfitting. This is achieved by penalizing adding models. \n",
    "\n",
    "The AIC value is:\n",
    "$$\n",
    "AIC = 2k - 2ln(L)\n",
    "$$\n",
    "where $k$ is the number of parameters in the model and $L$ is the maximum likelihood of the model (coefficient of determination in this case)."
   ]
  },
  {
   "cell_type": "code",
   "execution_count": 23,
   "metadata": {
    "collapsed": true
   },
   "outputs": [],
   "source": [
    "def AIC(L, k):\n",
    "    \"\"\" Calculate the Akaike information criterion value.\"\"\"\n",
    "    return 2*k - 2*np.log(L)    "
   ]
  },
  {
   "cell_type": "code",
   "execution_count": 19,
   "metadata": {
    "collapsed": false
   },
   "outputs": [
    {
     "data": {
      "text/plain": [
       "(1, 7)"
      ]
     },
     "execution_count": 19,
     "metadata": {},
     "output_type": "execute_result"
    }
   ],
   "source": [
    "epistatic_order_indices(length, 1)"
   ]
  },
  {
   "cell_type": "code",
   "execution_count": 40,
   "metadata": {
    "collapsed": false
   },
   "outputs": [
    {
     "data": {
      "text/plain": [
       "[0.49507002886169649,\n",
       " 0.50173974429486612,\n",
       " 0.51332401581906117,\n",
       " 0.55464368447951873,\n",
       " 0.50413717710436401,\n",
       " 0.54871231540739862,\n",
       " 0.67352097231362329,\n",
       " 0.49400338041860348,\n",
       " 0.53692659609262616,\n",
       " 0.49403826932430278,\n",
       " 0.52752482853352078,\n",
       " 0.5131083772647661,\n",
       " 0.53428701605000495,\n",
       " 0.57882720590606562,\n",
       " 0.5]"
      ]
     },
     "execution_count": 40,
     "metadata": {},
     "output_type": "execute_result"
    }
   ],
   "source": [
    "# Null model criterion\n",
    "parameters0 = labels[:(length+1)]\n",
    "model = ProjectedEpistasisModel(data.wildtype, data.genotypes, data.phenotypes, parameters=parameters)\n",
    "model.fit()\n",
    "criterion0 = AIC(model.score, len(parameters))\n",
    "\n",
    "# comparing aics from null model to second order\n",
    "scores = list()\n",
    "ratios = list()\n",
    "for i in range(*epistatic_order_indices(length,2)):\n",
    "    parameters = labels[:(length+1)] + [labels[i]]\n",
    "    model = ProjectedEpistasisModel(data.wildtype, data.genotypes, data.phenotypes, parameters=parameters)\n",
    "    model.fit()\n",
    "    criterion = AIC(model.score, len(parameters))\n",
    "    scores.append(criterion)\n",
    "    ratios.append(np.exp(criterion0 - criterion)/2.0)\n",
    "ratios"
   ]
  },
  {
   "cell_type": "code",
   "execution_count": null,
   "metadata": {
    "collapsed": true
   },
   "outputs": [],
   "source": [
    "# Null model criterion\n",
    "parameters0 = labels[:(length+1)]\n",
    "model = ProjectedEpistasisModel(data.wildtype, data.genotypes, data.phenotypes, parameters=parameters)\n",
    "model.fit()\n",
    "criterion0 = AIC(model.score, len(parameters))\n",
    "\n",
    "# comparing aics from null model to second order\n",
    "scores = list()\n",
    "ratios = list()\n",
    "for i in range(*epistatic_order_indices(length,2)):\n",
    "    parameters = labels[:(length+1)] + [labels[i]]\n",
    "    model = ProjectedEpistasisModel(data.wildtype, data.genotypes, data.phenotypes, parameters=parameters)\n",
    "    model.fit()\n",
    "    criterion = AIC(model.score, len(parameters))\n",
    "    scores.append(criterion)\n",
    "    ratios.append(np.exp(criterion0 - criterion)/2.0)\n",
    "ratios"
   ]
  }
 ],
 "metadata": {
  "kernelspec": {
   "display_name": "Python 3",
   "language": "python",
   "name": "python3"
  },
  "language_info": {
   "codemirror_mode": {
    "name": "ipython",
    "version": 3
   },
   "file_extension": ".py",
   "mimetype": "text/x-python",
   "name": "python",
   "nbconvert_exporter": "python",
   "pygments_lexer": "ipython3",
   "version": "3.4.3"
  }
 },
 "nbformat": 4,
 "nbformat_minor": 0
}

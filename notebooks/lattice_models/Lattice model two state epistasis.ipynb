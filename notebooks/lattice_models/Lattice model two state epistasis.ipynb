{
 "cells": [
  {
   "cell_type": "markdown",
   "metadata": {},
   "source": [
    "# Can we relate epistatic interactions back to physical interactions?\n",
    "\n",
    "We'll attempt to answer this question using lattice models. The only physical interactions that exists in the system are contact energies. \n",
    "\n",
    "When the native state conformation of the lattice model does not change through sequence space, only 1st and 2nd order epistasis exists (corresponding to changes in contact energies). I show this analytically in physical notebook in lab.\n",
    "\n",
    "If the native state changes, however, higher order interactions are seen. We believe these interactions are artifacts of a changing coordinate system underneath the model (i.e. a different free energy landscape governing the conformation space). \n",
    "\n",
    "The idea in this notebook is to see if we can explain high orer epistasis by ensembles of lower ordered terms. Thus, I'll use nonlinear epistasis model that separates the interactions into separate ensembles for each conformation in sequence space."
   ]
  },
  {
   "cell_type": "code",
   "execution_count": 1,
   "metadata": {
    "collapsed": false
   },
   "outputs": [],
   "source": [
    "%matplotlib inline\n",
    "import numpy as np\n",
    "from latticeproteins.sequences import * \n",
    "from latticeproteins.conformations import *\n",
    "from latticegpm.utils import enumerate_space, search_conformation_space\n",
    "from epistasis.utils import enumerate_space\n",
    "from latticegpm.utils import search_conformation_space, fold_energy\n",
    "from latticegpm.space import LatticeConformationSpace\n",
    "from epistasis.plotting import epistasis_bar, epistasis_barh\n",
    "from epistasis.models import LocalEpistasisModel\n",
    "import matplotlib.pyplot as plt\n",
    "figsize1 = [4,7]\n",
    "figsize2 = [8,4]"
   ]
  },
  {
   "cell_type": "markdown",
   "metadata": {},
   "source": [
    "Pre-set sequence spaces to study."
   ]
  },
  {
   "cell_type": "code",
   "execution_count": 2,
   "metadata": {
    "collapsed": true
   },
   "outputs": [],
   "source": [
    "# 6 mutations with two different conformations\n",
    "s1 = \"DIKHLANIMY\" \n",
    "s2 = \"TIPTVANNME\""
   ]
  },
  {
   "cell_type": "code",
   "execution_count": 3,
   "metadata": {
    "collapsed": true
   },
   "outputs": [],
   "source": [
    "# 7 mutations with two different conformations\n",
    "s1 = \"FDSAYDPMTV\" \n",
    "s2 = \"WDPSQFHMKV\""
   ]
  },
  {
   "cell_type": "code",
   "execution_count": 5,
   "metadata": {
    "collapsed": true
   },
   "outputs": [],
   "source": [
    "# 8 mutations with two different conformations\n",
    "s1 = \"FMHYWDTMTT\"\n",
    "s2 = \"FGENYDEFEW\""
   ]
  },
  {
   "cell_type": "markdown",
   "metadata": {},
   "source": [
    "I use Jesse Bloom's `latticeproteins` python package to enumerate the lattice model conformations and calculate energies."
   ]
  },
  {
   "cell_type": "code",
   "execution_count": 4,
   "metadata": {
    "collapsed": false,
    "scrolled": true
   },
   "outputs": [],
   "source": [
    "# build a lattice model\n",
    "length =10\n",
    "database_dir = \"%s/database\" % os.getcwd()\n",
    "c = Conformations(length, database_dir)\n",
    "#s1,s2 = search_conformation_space(c, 1.0, 0, differby=8)\n",
    "#print(s1,s2)"
   ]
  },
  {
   "cell_type": "code",
   "execution_count": 5,
   "metadata": {
    "collapsed": false
   },
   "outputs": [
    {
     "name": "stdout",
     "output_type": "stream",
     "text": [
      "URDDDLULU URRDLDLLU\n"
     ]
    }
   ],
   "source": [
    "# Calculate the native conformations of the ancestor and derived state.\n",
    "anc_native = c.FoldSequence(s1, temp=1)\n",
    "anc_conf = anc_native[1]\n",
    "der_native = c.FoldSequence(s2, temp=1)\n",
    "der_conf = der_native[1]\n",
    "print(anc_conf, der_conf)"
   ]
  },
  {
   "cell_type": "markdown",
   "metadata": {},
   "source": [
    "Build a lattice model genotype-phenotype map, folding each sequence to their native conformations."
   ]
  },
  {
   "cell_type": "code",
   "execution_count": 6,
   "metadata": {
    "collapsed": false
   },
   "outputs": [
    {
     "name": "stdout",
     "output_type": "stream",
     "text": [
      "['URDDDLULU' 'URRDLDLLU']\n",
      "* * * * *\n",
      "         \n",
      "* * D-S *\n",
      "    | |  \n",
      "* V F A *\n",
      "  |   |  \n",
      "* T-M Y *\n",
      "    | |  \n",
      "* * P-D *\n",
      "         \n",
      "* * * * *\n",
      "* * * * * *\n",
      "           \n",
      "* * D-P-S *\n",
      "    |   |  \n",
      "* V W F-Q *\n",
      "  |   |    \n",
      "* K-M-H * *\n",
      "           \n",
      "* * * * * *\n"
     ]
    }
   ],
   "source": [
    "# build the conformation space.\n",
    "ss = LatticeConformationSpace(s1, s2, c)\n",
    "genotypes = ss.sequences\n",
    "phenotypes = ss.delta_e\n",
    "ss.print_sequences([s1, s2])"
   ]
  },
  {
   "cell_type": "markdown",
   "metadata": {},
   "source": [
    "# Results"
   ]
  },
  {
   "cell_type": "markdown",
   "metadata": {},
   "source": [
    "Classical, high-order, multiplicative epistasis model. We see high order interactions"
   ]
  },
  {
   "cell_type": "code",
   "execution_count": 7,
   "metadata": {
    "collapsed": false
   },
   "outputs": [
    {
     "data": {
      "image/png": "[encoded data removed]",
      "text/plain": [
       "<matplotlib.figure.Figure at 0x106f6b550>"
      ]
     },
     "metadata": {},
     "output_type": "display_data"
    }
   ],
   "source": [
    "local = LocalEpistasisModel(s1, genotypes, phenotypes)\n",
    "local.fit()\n",
    "fig,ax = epistasis_bar(local, string_labels=False, figsize=[20,6], color='k',title=\"Estimated epistasis in protein lattice sequence space\")\n",
    "#fig.savefig(\"figures/lattice_epistasis2.png\", dpi=300, bbox_inches='tight')"
   ]
  },
  {
   "cell_type": "markdown",
   "metadata": {},
   "source": [
    "If I force all sequences in the space to single conformation, we see only 2nd order epistasis."
   ]
  },
  {
   "cell_type": "code",
   "execution_count": 8,
   "metadata": {
    "collapsed": false
   },
   "outputs": [
    {
     "name": "stdout",
     "output_type": "stream",
     "text": [
      "['URDDDLULU']\n"
     ]
    },
    {
     "data": {
      "image/png": "[encoded data removed]",
      "text/plain": [
       "<matplotlib.figure.Figure at 0x1086d5588>"
      ]
     },
     "metadata": {},
     "output_type": "display_data"
    }
   ],
   "source": [
    "ss = LatticeConformationSpace(s1, s2, c, target_conf=anc_conf)\n",
    "genotypes = ss.sequences\n",
    "phenotypes = ss.delta_e\n",
    "local = LocalEpistasisModel(s1, genotypes, phenotypes)\n",
    "local.fit()\n",
    "fig,ax = epistasis_bar(local, string_labels=True, figsize=[9,3], \n",
    "                       color='k',title=\"Estimated epistasis in protein lattice sequence space\")\n",
    "#fig.savefig(\"figures/lattice_epistasis_conf2.png\", dpi=300, bbox_inches='tight')"
   ]
  },
  {
   "cell_type": "markdown",
   "metadata": {},
   "source": [
    "## Build a two state, nonlinear epistasis model"
   ]
  },
  {
   "cell_type": "code",
   "execution_count": 9,
   "metadata": {
    "collapsed": false
   },
   "outputs": [],
   "source": [
    "from epistasis.utils import build_interaction_labels, label_to_key\n",
    "from epistasis.models import NonlinearEpistasisModel\n",
    "from epistasis.regression_ext import generate_dv_matrix"
   ]
  },
  {
   "cell_type": "markdown",
   "metadata": {},
   "source": [
    "Name two sets of parameters for epistasis to describe each set of conformations."
   ]
  },
  {
   "cell_type": "code",
   "execution_count": 38,
   "metadata": {
    "collapsed": false
   },
   "outputs": [],
   "source": [
    "from collections import OrderedDict # use this to order params\n",
    "\n",
    "A_labels = build_interaction_labels(7,2)\n",
    "A_keys = [label_to_key(i, state=\"A\") for i in A_labels]\n",
    "B_labels = build_interaction_labels(7,2)\n",
    "B_keys = [label_to_key(i, state=\"B\") for i in B_labels]\n",
    "\n",
    "params = OrderedDict(zip(A_keys + B_keys, A_labels + B_labels))"
   ]
  },
  {
   "cell_type": "markdown",
   "metadata": {},
   "source": [
    "Build a custom two state ensemble model function."
   ]
  },
  {
   "cell_type": "code",
   "execution_count": 39,
   "metadata": {
    "collapsed": true
   },
   "outputs": [],
   "source": [
    "def two_state_func(x, *args):\n",
    "    \"\"\" Two state boltzmann weighted nonlinear function.\"\"\"\n",
    "    beta = args[-1]\n",
    "    params = args[:-1]\n",
    "    length = len(params)\n",
    "    params1 = np.array(params[0:int(length/2)])\n",
    "    params2 = np.array(params[int(length/2):])\n",
    "    X1 = np.exp(-np.dot(x[0:int(length/2),:].T, params1)/beta)\n",
    "    X2 = np.exp(-np.dot(x[int(length/2):-1,:].T, params2)/beta)\n",
    "    return -beta*np.log(X1 + X2)"
   ]
  },
  {
   "cell_type": "markdown",
   "metadata": {},
   "source": [
    "Build the data-structure for the fit (i.e. a dummy variable matrix, X)"
   ]
  },
  {
   "cell_type": "code",
   "execution_count": 40,
   "metadata": {
    "collapsed": false
   },
   "outputs": [
    {
     "name": "stdout",
     "output_type": "stream",
     "text": [
      "OrderedDict([('0A', [0]), ('1A', [1]), ('2A', [2]), ('3A', [3]), ('4A', [4]), ('5A', [5]), ('6A', [6]), ('7A', [7]), ('1,2A', [1, 2]), ('1,3A', [1, 3]), ('1,4A', [1, 4]), ('1,5A', [1, 5]), ('1,6A', [1, 6]), ('1,7A', [1, 7]), ('2,3A', [2, 3]), ('2,4A', [2, 4]), ('2,5A', [2, 5]), ('2,6A', [2, 6]), ('2,7A', [2, 7]), ('3,4A', [3, 4]), ('3,5A', [3, 5]), ('3,6A', [3, 6]), ('3,7A', [3, 7]), ('4,5A', [4, 5]), ('4,6A', [4, 6]), ('4,7A', [4, 7]), ('5,6A', [5, 6]), ('5,7A', [5, 7]), ('6,7A', [6, 7]), ('0B', [0]), ('1B', [1]), ('2B', [2]), ('3B', [3]), ('4B', [4]), ('5B', [5]), ('6B', [6]), ('7B', [7]), ('1,2B', [1, 2]), ('1,3B', [1, 3]), ('1,4B', [1, 4]), ('1,5B', [1, 5]), ('1,6B', [1, 6]), ('1,7B', [1, 7]), ('2,3B', [2, 3]), ('2,4B', [2, 4]), ('2,5B', [2, 5]), ('2,6B', [2, 6]), ('2,7B', [2, 7]), ('3,4B', [3, 4]), ('3,5B', [3, 5]), ('3,6B', [3, 6]), ('3,7B', [3, 7]), ('4,5B', [4, 5]), ('4,6B', [4, 6]), ('4,7B', [4, 7]), ('5,6B', [5, 6]), ('5,7B', [5, 7]), ('6,7B', [6, 7]), ('temperature', [100])])\n"
     ]
    }
   ],
   "source": [
    "# Build dummy variable matrix for nonlinear model.\n",
    "xdata = generate_dv_matrix(genotypes, list(params.values()))\n",
    "\n",
    "# Add column for temperature to parameters and dummy matrix\n",
    "params['temperature'] = [100]\n",
    "xdata = np.concatenate((xdata, np.array([np.ones(len(phenotypes))]).T), axis=1)\n",
    "print(params)"
   ]
  },
  {
   "cell_type": "markdown",
   "metadata": {},
   "source": [
    "Results of the two state model: "
   ]
  },
  {
   "cell_type": "code",
   "execution_count": 41,
   "metadata": {
    "collapsed": false,
    "scrolled": false
   },
   "outputs": [
    {
     "name": "stderr",
     "output_type": "stream",
     "text": [
      "/Users/Zsailer/virtual/py3/lib/python3.4/site-packages/scipy/optimize/minpack.py:604: OptimizeWarning: Covariance of the parameters could not be estimated\n",
      "  category=OptimizeWarning)\n"
     ]
    },
    {
     "data": {
      "text/plain": [
       "(<matplotlib.figure.Figure at 0x10b544e80>,\n",
       " <matplotlib.axes._subplots.AxesSubplot at 0x10b5f3748>)"
      ]
     },
     "execution_count": 41,
     "metadata": {},
     "output_type": "execute_result"
    },
    {
     "data": {
      "image/png": "[encoded data removed]",
      "text/plain": [
       "<matplotlib.figure.Figure at 0x10b544e80>"
      ]
     },
     "metadata": {},
     "output_type": "display_data"
    }
   ],
   "source": [
    "# Create an instance of the model and fit as normal.\n",
    "model = NonlinearEpistasisModel(s1, \n",
    "                                genotypes, \n",
    "                                phenotypes, \n",
    "                                two_state_func, \n",
    "                                xdata,\n",
    "                                params)\n",
    "\n",
    "model.fit()\n",
    "epistasis_bar(model, string_labels=False, figsize=[11,4])"
   ]
  },
  {
   "cell_type": "markdown",
   "metadata": {},
   "source": [
    "# Conclusions\n",
    "\n",
    "This idea did not work the way we thought -- we believe this is due to numerical issues in the nonlinear fit. Small numbers and exponentials do not play nicely. \n",
    "\n",
    "Analytically, we can show that lattice models should only display 2nd order epistasis; though, these interactions are difficult to explain in terms of the underlying physics. Each epistatic parameter may be the manifestation of multiple contact energies folded into a single term. It's impossible to tease this apart without knowing everything about the physics of the system. This is, obviously, impractical for real systems."
   ]
  }
 ],
 "metadata": {
  "kernelspec": {
   "display_name": "Python 3",
   "language": "python",
   "name": "python3"
  },
  "language_info": {
   "codemirror_mode": {
    "name": "ipython",
    "version": 3
   },
   "file_extension": ".py",
   "mimetype": "text/x-python",
   "name": "python",
   "nbconvert_exporter": "python",
   "pygments_lexer": "ipython3",
   "version": "3.4.3"
  }
 },
 "nbformat": 4,
 "nbformat_minor": 0
}

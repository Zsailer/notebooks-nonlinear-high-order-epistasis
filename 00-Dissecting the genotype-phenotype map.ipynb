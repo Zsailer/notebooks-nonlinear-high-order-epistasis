{
 "cells": [
  {
   "cell_type": "markdown",
   "metadata": {
    "collapsed": true
   },
   "source": [
    "# Dissecting the genotype-phenotype map"
   ]
  },
  {
   "cell_type": "markdown",
   "metadata": {},
   "source": [
    "The genotype-phenotype map, which relates sequences to their functional properties, is a useful framework for thinking about evolution of function. This map represents all sequences as nodes in a network and edges are drawn between sequences that differ by a single substitution. We can dissect this space and ask how individual mutations affect the functional properties of a sequence. "
   ]
  },
  {
   "cell_type": "markdown",
   "metadata": {},
   "source": [
    "The simplest decomposition of this space is to assume each mutation affects the phenotype independently. Under this model, each mutation additively contributes to a sequence's phenotype:\n",
    "\n",
    "$$\n",
    "p(\\vec{\\sigma}) = \\alpha + \\sum_{i}^{\\sigma} k_{i} x_{i}\n",
    "$$"
   ]
  },
  {
   "cell_type": "markdown",
   "metadata": {},
   "source": [
    "This model can be extended to include possible coupling between mutations, i.e. two mutations in combination have a different effect than their individual affects summed together. This phenomenon is known as **epistasis**. We account for epistasis by adding interaction terms to the model above:\n",
    "\n",
    "$$\n",
    "p(\\vec{\\sigma}) = \\alpha + \\sum_{i}^{\\sigma} k_{i} x_{i} + \\sum_{i<j}^{\\sigma} k_{ij} x_{i}x_{j} + ...\n",
    "$$\n"
   ]
  },
  {
   "cell_type": "markdown",
   "metadata": {},
   "source": [
    "Epistasis quickly complicates the structure in the genotype-phenotype map. The order and magnitude of epistasis in real experimental systems is mostly unknown, because it requires large amounts of data that were previously intractable. Recent advancements in high throughput techniques, however, are providing the necessary data to studying the presence of epistasis. "
   ]
  },
  {
   "cell_type": "markdown",
   "metadata": {},
   "source": [
    "# Our motivations for this work"
   ]
  },
  {
   "cell_type": "markdown",
   "metadata": {},
   "source": [
    "## 1. Filling in experimental spaces"
   ]
  },
  {
   "cell_type": "markdown",
   "metadata": {},
   "source": [
    "We are an experimental lab. We are working on creating high-throughput experimental techniques for building genotype-phenotype maps. How do we increase our power to reach larger spaces? Create a reliable tool (i.e. empirically informed) that can fill regions of the map that our measurements miss. This work started under this motivation. We wanted to use these models to reconstruct/infer gaps in our experiment datasets. "
   ]
  },
  {
   "cell_type": "markdown",
   "metadata": {},
   "source": [
    "## 2. Connect epistatic interactions to evolutionary trajectories."
   ]
  },
  {
   "cell_type": "markdown",
   "metadata": {},
   "source": [
    "Our lab is interested in understanding how the genotype-phenotype map (protein sequence space, in our case) shapes accessible evolutionary trajectories. If we could connect individual mutations or unique epistatic interactions to the cause for particular evolutionary trajectories, we've found the holy grail! "
   ]
  }
 ],
 "metadata": {
  "kernelspec": {
   "display_name": "Python 2",
   "language": "python",
   "name": "python2"
  },
  "language_info": {
   "codemirror_mode": {
    "name": "ipython",
    "version": 2
   },
   "file_extension": ".py",
   "mimetype": "text/x-python",
   "name": "python",
   "nbconvert_exporter": "python",
   "pygments_lexer": "ipython2",
   "version": "2.7.6"
  }
 },
 "nbformat": 4,
 "nbformat_minor": 0
}

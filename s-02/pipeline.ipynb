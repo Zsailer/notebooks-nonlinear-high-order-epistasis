{
 "cells": [
  {
   "cell_type": "markdown",
   "metadata": {},
   "source": [
    "# Pipeline for estimating high-order epistasis in nonlinear genotype-phenotype maps"
   ]
  },
  {
   "cell_type": "markdown",
   "metadata": {},
   "source": [
    "## Table of contents\n",
    "\n",
    "[Nonlinear function](#Nonlinear-function)"
   ]
  },
  {
   "cell_type": "code",
   "execution_count": 65,
   "metadata": {},
   "outputs": [],
   "source": [
    "%matplotlib inline\n",
    "import matplotlib.pyplot as plt\n",
    "import matplotlib as mpl\n",
    "import numpy as np\n",
    "import scipy as sp\n",
    "\n",
    "mpl.rcParams['font.family'] = 'Arial'\n",
    "\n",
    "from epistasis.stats import pearson\n",
    "from epistasis.models import (LinearEpistasisModel, \n",
    "     NonlinearEpistasisModel, \n",
    "     LinearEpistasisRegression)"
   ]
  },
  {
   "cell_type": "code",
   "execution_count": 90,
   "metadata": {},
   "outputs": [],
   "source": [
    "dataset = \"krug1\"\n",
    "path_data = \"../datasets/\" + dataset + \".json\""
   ]
  },
  {
   "cell_type": "markdown",
   "metadata": {},
   "source": [
    "## Nonlinear function"
   ]
  },
  {
   "cell_type": "code",
   "execution_count": 91,
   "metadata": {},
   "outputs": [],
   "source": [
    "def power_transform_fit(x, lmbda, A, B):\n",
    "    gmean = sp.stats.mstats.gmean(x + A)\n",
    "    if lmbda == 0:\n",
    "        return gmean*np.log(x+A)\n",
    "    else:\n",
    "        first = (x+A)**lmbda\n",
    "        out = (first - 1.0)/(lmbda * gmean**(lmbda-1)) + B\n",
    "        return out"
   ]
  },
  {
   "cell_type": "code",
   "execution_count": 92,
   "metadata": {},
   "outputs": [
    {
     "name": "stdout",
     "output_type": "stream",
     "text": [
      "0.704882539089\n",
      "0.780965053354 -1.53695089799 -4.63491631239\n"
     ]
    },
    {
     "name": "stderr",
     "output_type": "stream",
     "text": [
      "/Users/Zsailer/.virtualenvs/py3/lib/python3.5/site-packages/scipy/stats/stats.py:314: RuntimeWarning: invalid value encountered in log\n",
      "  log_a = np.log(a)\n",
      "/Users/Zsailer/.virtualenvs/py3/lib/python3.5/site-packages/ipykernel/__main__.py:6: RuntimeWarning: invalid value encountered in power\n"
     ]
    }
   ],
   "source": [
    "model = NonlinearEpistasisModel.from_json(\n",
    "    path_data,\n",
    "    order=1,\n",
    "    function = power_transform_fit,\n",
    "    log_transform=False,\n",
    "    fix_linear=True,\n",
    "    model_type=\"global\"                   \n",
    ")\n",
    "model.fit(A=1,B=-1,lmbda=-.1)\n",
    "print(model.statistics.score)\n",
    "print(model.parameters.A, model.parameters.B, model.parameters.lmbda)"
   ]
  },
  {
   "cell_type": "code",
   "execution_count": 93,
   "metadata": {
    "collapsed": false,
    "scrolled": false
   },
   "outputs": [],
   "source": [
    "GMEAN = sp.stats.mstats.gmean(model.statistics.linear() + model.parameters.A)\n",
    "\n",
    "def power_transform(x, lmbda, A, B):\n",
    "    \"\"\"\"\"\"\n",
    "    if lmbda == 0:\n",
    "        return GMEAN*np.log(x+A)\n",
    "    else:\n",
    "        first = (x+A)**lmbda\n",
    "        out = (first - 1.0)/(lmbda * GMEAN**(lmbda-1)) + B\n",
    "        return out\n",
    "    \n",
    "def reverse_function(y, lmbda, A, B):\n",
    "    \"\"\"\"\"\"\n",
    "    return (GMEAN**(lmbda-1)*lmbda*(y - B) + 1)**(1/lmbda) - A"
   ]
  },
  {
   "cell_type": "code",
   "execution_count": 94,
   "metadata": {},
   "outputs": [],
   "source": [
    "def prettify(ax):\n",
    "    ax.tick_params(direction='out')\n",
    "    ax.spines[\"right\"].set_visible(False)\n",
    "    ax.spines[\"top\"].set_visible(False)\n",
    "    ax.yaxis.set_ticks_position('left')\n",
    "    ax.xaxis.set_ticks_position('bottom')"
   ]
  },
  {
   "cell_type": "code",
   "execution_count": 108,
   "metadata": {},
   "outputs": [
    {
     "data": {
      "image/png": "[encoded data removed]",
      "text/plain": [
       "<matplotlib.figure.Figure at 0x10d2ccfd0>"
      ]
     },
     "metadata": {},
     "output_type": "display_data"
    }
   ],
   "source": [
    "fig, ax = plt.subplots(figsize=(2,2))\n",
    "\n",
    "\n",
    "# expectation line\n",
    "x = np.linspace(.6, 1,10)\n",
    "y = x\n",
    "ax.plot(x,y, '-', color=\"gray\")\n",
    "\n",
    "# raw data\n",
    "x = model.statistics.linear()\n",
    "y = model.phenotypes\n",
    "ax.plot(x, y, '.', color=\"k\")\n",
    "\n",
    "# nonlinear fit\n",
    "modelx = np.linspace(min(x), max(x), 1000)\n",
    "modely = power_transform(modelx, *model.parameters.get_params())\n",
    "ax.plot(modelx, modely, '-', color=\"r\", linewidth=2)\n",
    "\n",
    "# styling\n",
    "ax.spines[\"left\"].set_bounds(0.6, 1)\n",
    "ax.spines[\"bottom\"].set_bounds(0.6, 1)\n",
    "ax.axis([.58,1.05,.58,1.05])\n",
    "prettify(ax)"
   ]
  },
  {
   "cell_type": "code",
   "execution_count": 109,
   "metadata": {},
   "outputs": [],
   "source": [
    "fig.savefig(\"img/panel-a.svg\", format=\"svg\")"
   ]
  },
  {
   "cell_type": "markdown",
   "metadata": {},
   "source": [
    "# Linear transform"
   ]
  },
  {
   "cell_type": "code",
   "execution_count": 96,
   "metadata": {
    "collapsed": false,
    "scrolled": false
   },
   "outputs": [],
   "source": [
    "phenotypes_ = reverse_function(model.phenotypes, *model.parameters.get_params())\n",
    "\n",
    "# Fit with high-order epistasis model\n",
    "linear = LinearEpistasisModel.from_gpm(model, model_type=\"global\")\n",
    "linear.phenotypes = phenotypes_\n",
    "linear.fit()"
   ]
  },
  {
   "cell_type": "code",
   "execution_count": 100,
   "metadata": {},
   "outputs": [
    {
     "data": {
      "image/png": "[encoded data removed]",
      "text/plain": [
       "<matplotlib.figure.Figure at 0x10bec3b38>"
      ]
     },
     "metadata": {},
     "output_type": "display_data"
    }
   ],
   "source": [
    "fig, ax = plt.subplots(figsize=(2,2))\n",
    "\n",
    "# expectation line\n",
    "x = np.linspace(.6, 1,10)\n",
    "y = x\n",
    "ax.plot(x,y, '-', color=\"gray\")\n",
    "\n",
    "# raw data\n",
    "x = model.statistics.linear()\n",
    "y = phenotypes_\n",
    "ax.plot(x, y, '.', color=\"k\")\n",
    "\n",
    "# nonlinear fit\n",
    "modelx = np.linspace(min(x), max(x), 1000)\n",
    "modely = modelx\n",
    "ax.plot(modelx, modely, '-', color=\"r\", linewidth=2)\n",
    "\n",
    "# styling\n",
    "ax.spines[\"left\"].set_bounds(0.6, 1.1)\n",
    "ax.spines[\"bottom\"].set_bounds(0.6, 1.1)\n",
    "ax.axis([.58,1.15,.58,1.15])\n",
    "prettify(ax)\n",
    "fig.savefig(\"img/panel-b.svg\", format=\"svg\")"
   ]
  },
  {
   "cell_type": "code",
   "execution_count": 107,
   "metadata": {},
   "outputs": [
    {
     "data": {
      "text/plain": [
       "(<matplotlib.figure.Figure at 0x10ccdaa20>,\n",
       " [<matplotlib.axes._subplots.AxesSubplot at 0x10cf29cf8>,\n",
       "  <matplotlib.axes._subplots.AxesSubplot at 0x10cff2400>])"
      ]
     },
     "execution_count": 107,
     "metadata": {},
     "output_type": "execute_result"
    },
    {
     "data": {
      "image/png": "[encoded data removed]",
      "text/plain": [
       "<matplotlib.figure.Figure at 0x10ccdaa20>"
      ]
     },
     "metadata": {},
     "output_type": "display_data"
    }
   ],
   "source": [
    "linear.plot.epistasis(figsize=(3,4), height_ratio=4)"
   ]
  },
  {
   "cell_type": "code",
   "execution_count": null,
   "metadata": {},
   "outputs": [],
   "source": []
  }
 ],
 "metadata": {
  "kernelspec": {
   "display_name": "Python 3 (py3)",
   "language": "python",
   "name": "py3"
  },
  "language_info": {
   "codemirror_mode": {
    "name": "ipython",
    "version": 3
   },
   "file_extension": ".py",
   "mimetype": "text/x-python",
   "name": "python",
   "nbconvert_exporter": "python",
   "pygments_lexer": "ipython3",
   "version": "3.5.0"
  }
 },
 "nbformat": 4,
 "nbformat_minor": 1
}

{
 "cells": [
  {
   "cell_type": "markdown",
   "metadata": {},
   "source": [
    "# Detecting high-order epistasis in nonlinear genotype-phenotype maps\n",
    "** Zachary R Sailer and Michael J Harms**\n",
    "\n",
    "This repository contains Jupyter notebooks that reproduce the results and analysis in our paper: \"Detecting high-order epistasis in nonlinear genotype-phenotype maps.\" published in Genetics.\n",
    "\n",
    "See a preprint paper [here](http://biorxiv.org/content/early/2016/12/02/072256.article-metrics).\n",
    "\n",
    "## Download and Install\n",
    "\n",
    "If you'd like to run the notebooks locally, clone this repository and make sure you have all the necessary dependencies are installed and are running Python 3. Here's a list of everything you'll need:\n",
    "\n",
    "1. epistasis\n",
    "2. gpmap\n",
    "3. Jupyter Notebook\n",
    "4. IPython\n",
    "5. Numpy\n",
    "6. Scipy\n",
    "7. Scikit-learn\n",
    "8. Matplotlib\n",
    "9. ipywidgets\n",
    "\n",
    "All packages can be installed using `pip`. \n",
    "\n",
    "## Data formats\n",
    "\n",
    "The following formats are used in to create all data, metadata, and figures for the paper. The point of listing them is the provide documentation for anyone interested in sifting through through the data.\n",
    "\n",
    "- Experimental data, and final results are saved in JSON format (`.json` files). This makes the data easily accessible to basically any programming language -- an attempt to practice true reproducibility. Also, this format is fairly human-readable.\n",
    "- Data, analysis, raw-figures, code, etc. were all done in Jupyter Notebooks saved as `.ipynb` files. Guaranteed to work with Python 3.\n",
    "\n",
    "## Table of Contents\n",
    "\n",
    "- Figure 1: **Epistasis can be quantified using Walsh polynomials** (no notebook for this figure) \n",
    "- [Figure 2](figures-notebooks/figure-02.ipynb): **Nonlinearity in phenotype creates spurious high-order epistatic coefficients.**\n",
    "- [Figure 3](figures-notebooks/figure-03.ipynb): **Epistasis and nonlinear scale induce different patterns of nonadditivity.**\n",
    "- [Figure 4](figures-notebooks/figure-04.ipynb): **Experimental genotype-phenotype maps exhibit nonlinear phenotypes.**\n",
    "- [Figure 5](figures-notebooks/figure-05.ipynb): **High-order epistasis is present in genotype-phenotype maps.**\n",
    "- [Figure 6](figures-notebooks/figure-06.ipynb): **Nonlinear phenotypes distort measured epistatic coefficients.**\n",
    "\n",
    "\n"
   ]
  },
  {
   "cell_type": "code",
   "execution_count": null,
   "metadata": {
    "collapsed": true
   },
   "outputs": [],
   "source": []
  }
 ],
 "metadata": {
  "kernelspec": {
   "display_name": "Python 3",
   "language": "python",
   "name": "python3"
  },
  "language_info": {
   "codemirror_mode": {
    "name": "ipython",
    "version": 3
   },
   "file_extension": ".py",
   "mimetype": "text/x-python",
   "name": "python",
   "nbconvert_exporter": "python",
   "pygments_lexer": "ipython3",
   "version": "3.5.0"
  }
 },
 "nbformat": 4,
 "nbformat_minor": 2
}

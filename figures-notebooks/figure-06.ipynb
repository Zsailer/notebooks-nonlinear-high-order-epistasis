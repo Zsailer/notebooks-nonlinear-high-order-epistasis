{
 "cells": [
  {
   "cell_type": "markdown",
   "metadata": {},
   "source": [
    "# Figure 6"
   ]
  },
  {
   "cell_type": "markdown",
   "metadata": {},
   "source": [
    "In Figure 6, we are attempting to estimate just how wrong would our estimates of epistasis be if we didn't account for phenotypic scale. For each data set, we fit the genotype-phenotype map with a nonlinear model and a linear model and compared their estimated coefficients. "
   ]
  },
  {
   "cell_type": "code",
   "execution_count": 11,
   "metadata": {
    "collapsed": true
   },
   "outputs": [],
   "source": [
    "%matplotlib inline\n",
    "import matplotlib.pyplot as plt\n",
    "import numpy as np\n",
    "from gpmap import GenotypePhenotypeMap\n",
    "from epistasis import plot\n",
    "from epistasis.models import EpistasisPowerTransform, EpistasisLinearRegression\n",
    "from epistasis.stats import pearson\n",
    "\n",
    "path = \"../datasets/\""
   ]
  },
  {
   "cell_type": "markdown",
   "metadata": {},
   "source": [
    "# Data set I"
   ]
  },
  {
   "cell_type": "code",
   "execution_count": 19,
   "metadata": {
    "collapsed": false
   },
   "outputs": [
    {
     "data": {
      "text/plain": [
       "<matplotlib.text.Annotation at 0x10b80bbe0>"
      ]
     },
     "execution_count": 19,
     "metadata": {},
     "output_type": "execute_result"
    },
    {
     "data": {
      "image/png": "[encoded data removed]",
      "text/plain": [
       "<matplotlib.figure.Figure at 0x10bc083c8>"
      ]
     },
     "metadata": {},
     "output_type": "display_data"
    }
   ],
   "source": [
    "dataset = path + \"khan.json\"\n",
    "\n",
    "# Fit with nonlinear model\n",
    "power = EpistasisPowerTransform.from_json(dataset, order=1, model_type=\"global\", fix_linear=True)\n",
    "power.fit(lmbda=-1, A=0, B=0)\n",
    "plinear = power.transform_target()\n",
    "nonlinear = EpistasisLinearRegression.from_data(power.gpm.wildtype, power.gpm.genotypes, plinear, model_type=\"global\", order=5)\n",
    "nonlinear.fit()\n",
    "\n",
    "linear = EpistasisLinearRegression.from_json(dataset, order=5, model_type=\"global\")\n",
    "linear.fit()\n",
    "\n",
    "# Plot correlation\n",
    "x = linear.epistasis.values[6:]\n",
    "y = nonlinear.epistasis.values[6:]\n",
    "fig, ax = plot.corr(x,y, figsize=(3,3))\n",
    "r2 = pearson(x,y)**2\n",
    "ax.annotate(\"$r^2$ = \" + str(round(r2,2)), xy=(0.005,-.005))"
   ]
  },
  {
   "cell_type": "markdown",
   "metadata": {},
   "source": [
    "# Data set II"
   ]
  },
  {
   "cell_type": "code",
   "execution_count": 16,
   "metadata": {
    "collapsed": false
   },
   "outputs": [
    {
     "data": {
      "text/plain": [
       "<matplotlib.text.Annotation at 0x10bca3cf8>"
      ]
     },
     "execution_count": 16,
     "metadata": {},
     "output_type": "execute_result"
    },
    {
     "data": {
      "image/png": "[encoded data removed]",
      "text/plain": [
       "<matplotlib.figure.Figure at 0x10bbe0710>"
      ]
     },
     "metadata": {},
     "output_type": "display_data"
    }
   ],
   "source": [
    "dataset = path + \"krug1.json\"\n",
    "\n",
    "# Fit with nonlinear model\n",
    "power = EpistasisPowerTransform.from_json(dataset, order=1, model_type=\"global\", fix_linear=True)\n",
    "power.fit(lmbda=-.1, A=1, B=0)\n",
    "plinear = power.transform_target()\n",
    "nonlinear = EpistasisLinearRegression.from_data(power.gpm.wildtype, power.gpm.genotypes, plinear, model_type=\"global\", order=5)\n",
    "nonlinear.fit()\n",
    "\n",
    "linear = EpistasisLinearRegression.from_json(dataset, order=5, model_type=\"global\")\n",
    "linear.fit()\n",
    "\n",
    "# Plot correlation\n",
    "x = linear.epistasis.values[6:]\n",
    "y = nonlinear.epistasis.values[6:]\n",
    "fig, ax = plot.corr(x,y, figsize=(3,3))\n",
    "r2 = pearson(x,y)**2\n",
    "ax.annotate(\"$r^2$ = \" + str(round(r2,2)), xy=(0.005,-.015))"
   ]
  },
  {
   "cell_type": "markdown",
   "metadata": {},
   "source": [
    "## Data set III"
   ]
  },
  {
   "cell_type": "code",
   "execution_count": 21,
   "metadata": {
    "collapsed": false
   },
   "outputs": [
    {
     "name": "stderr",
     "output_type": "stream",
     "text": [
      "/Users/Zsailer/Documents/Research/projects/pkgs/epistasis/epistasis/models/nonlinear/power.py:12: RuntimeWarning: overflow encountered in power\n",
      "  first = (x+A)**lmbda\n",
      "/Users/Zsailer/Documents/Research/projects/pkgs/epistasis/epistasis/models/nonlinear/power.py:13: RuntimeWarning: overflow encountered in double_scalars\n",
      "  out = (first - 1.0)/(lmbda * gmean**(lmbda-1)) + B\n",
      "/Users/Zsailer/Documents/Research/projects/pkgs/epistasis/epistasis/models/nonlinear/power.py:13: RuntimeWarning: invalid value encountered in true_divide\n",
      "  out = (first - 1.0)/(lmbda * gmean**(lmbda-1)) + B\n"
     ]
    },
    {
     "data": {
      "text/plain": [
       "<matplotlib.text.Annotation at 0x10c08ecf8>"
      ]
     },
     "execution_count": 21,
     "metadata": {},
     "output_type": "execute_result"
    },
    {
     "data": {
      "image/png": "[encoded data removed]",
      "text/plain": [
       "<matplotlib.figure.Figure at 0x10beca128>"
      ]
     },
     "metadata": {},
     "output_type": "display_data"
    }
   ],
   "source": [
    "dataset = path + \"weinreich.json\"\n",
    "\n",
    "# Fit with nonlinear model\n",
    "power = EpistasisPowerTransform.from_json(dataset, order=1, model_type=\"global\", fix_linear=True)\n",
    "power.fit(lmbda=-1, A=0, B=0)\n",
    "plinear = power.transform_target()\n",
    "nonlinear = EpistasisLinearRegression.from_data(power.gpm.wildtype, power.gpm.genotypes, plinear, model_type=\"global\", order=5)\n",
    "nonlinear.fit()\n",
    "\n",
    "linear = EpistasisLinearRegression.from_json(dataset, order=5, model_type=\"global\")\n",
    "linear.fit()\n",
    "\n",
    "# Plot correlation\n",
    "x = linear.epistasis.values[6:]\n",
    "y = nonlinear.epistasis.values[6:]\n",
    "fig, ax = plot.corr(x,y, figsize=(3,3))\n",
    "r2 = pearson(x,y)**2\n",
    "ax.annotate(\"$r^2$ = \" + str(round(r2,2)), xy=(0.006,-.0025))"
   ]
  },
  {
   "cell_type": "markdown",
   "metadata": {},
   "source": [
    "## Data set IV"
   ]
  },
  {
   "cell_type": "markdown",
   "metadata": {},
   "source": [
    "Data set IV was published as $\\Delta G$s, but were given to us as $k_a$s. Before fitting with a nonlinear epistasis model, we converted the values to $\\Delta G$s to be consistent with the literature."
   ]
  },
  {
   "cell_type": "code",
   "execution_count": 25,
   "metadata": {
    "collapsed": true
   },
   "outputs": [],
   "source": [
    "dataset = path + \"anderson.json\"\n",
    "\n",
    "# gas constant and temperature\n",
    "R = 1.9872036e-3\n",
    "T = 293\n",
    "\n",
    "gpm = GenotypePhenotypeMap.from_json(dataset)\n",
    "gpm.phenotypes = - np.log(gpm.phenotypes) * R * T "
   ]
  },
  {
   "cell_type": "code",
   "execution_count": 30,
   "metadata": {
    "collapsed": false
   },
   "outputs": [
    {
     "data": {
      "text/plain": [
       "<matplotlib.text.Annotation at 0x10c4acac8>"
      ]
     },
     "execution_count": 30,
     "metadata": {},
     "output_type": "execute_result"
    },
    {
     "data": {
      "image/png": "[encoded data removed]",
      "text/plain": [
       "<matplotlib.figure.Figure at 0x10c2bc978>"
      ]
     },
     "metadata": {},
     "output_type": "display_data"
    }
   ],
   "source": [
    "# Fit with nonlinear model\n",
    "power = EpistasisPowerTransform.from_gpm(gpm, order=1, model_type=\"global\", fix_linear=True)\n",
    "power.fit(lmbda=-1, A=0, B=0)\n",
    "plinear = power.transform_target()\n",
    "nonlinear = EpistasisLinearRegression.from_data(power.gpm.wildtype, power.gpm.genotypes, plinear, mutations=power.gpm.mutations, model_type=\"global\", order=5)\n",
    "nonlinear.fit()\n",
    "\n",
    "linear = EpistasisLinearRegression.from_gpm(gpm, order=5, model_type=\"global\")\n",
    "linear.fit()\n",
    "\n",
    "# Plot correlation\n",
    "x = linear.epistasis.values[9:]\n",
    "y = nonlinear.epistasis.values[9:]\n",
    "fig, ax = plot.corr(x,y, figsize=(3,3))\n",
    "r2 = pearson(x,y)**2\n",
    "ax.annotate(\"$r^2$ = \" + str(round(r2,2)), xy=(0.0,-.2))"
   ]
  }
 ],
 "metadata": {
  "kernelspec": {
   "display_name": "Python 3",
   "language": "python",
   "name": "python3"
  },
  "language_info": {
   "codemirror_mode": {
    "name": "ipython",
    "version": 3
   },
   "file_extension": ".py",
   "mimetype": "text/x-python",
   "name": "python",
   "nbconvert_exporter": "python",
   "pygments_lexer": "ipython3",
   "version": "3.5.0"
  }
 },
 "nbformat": 4,
 "nbformat_minor": 2
}

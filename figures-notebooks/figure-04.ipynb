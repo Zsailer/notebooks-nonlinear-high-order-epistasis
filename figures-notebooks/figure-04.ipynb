{
 "cells": [
  {
   "cell_type": "markdown",
   "metadata": {},
   "source": [
    "# Figure 4"
   ]
  },
  {
   "cell_type": "markdown",
   "metadata": {},
   "source": [
    "We use a power-transform to estimate the shape of the nonlinear\n",
    "shape of the genotype-phenotype map."
   ]
  },
  {
   "cell_type": "code",
   "execution_count": 17,
   "metadata": {
    "collapsed": false
   },
   "outputs": [],
   "source": [
    "%matplotlib inline\n",
    "import matplotlib.pyplot as plt\n",
    "import matplotlib.gridspec as gridspec\n",
    "import numpy as np\n",
    "\n",
    "from gpmap import GenotypePhenotypeMap\n",
    "from epistasis.stats import pearson\n",
    "from epistasis import plot\n",
    "from epistasis.models.nonlinear.power import EpistasisPowerTransform"
   ]
  },
  {
   "cell_type": "markdown",
   "metadata": {},
   "source": [
    "## Data set I"
   ]
  },
  {
   "cell_type": "code",
   "execution_count": 15,
   "metadata": {
    "collapsed": false
   },
   "outputs": [
    {
     "name": "stdout",
     "output_type": "stream",
     "text": [
      "{'A': 1.1093715178448267, 'B': -0.74772322447721207, 'lmbda': -0.072916389676942361}\n"
     ]
    },
    {
     "data": {
      "text/plain": [
       "(<matplotlib.figure.Figure at 0x10cba5390>,\n",
       " <matplotlib.axes._subplots.AxesSubplot at 0x10cee4e48>)"
      ]
     },
     "execution_count": 15,
     "metadata": {},
     "output_type": "execute_result"
    },
    {
     "data": {
      "image/png": "[encoded data removed]",
      "text/plain": [
       "<matplotlib.figure.Figure at 0x10cba5390>"
      ]
     },
     "metadata": {},
     "output_type": "display_data"
    }
   ],
   "source": [
    "# Path to dataset\n",
    "dataset = \"khan\"\n",
    "path_data = \"../datasets/\" + dataset + \".json\"\n",
    "\n",
    "model = EpistasisPowerTransform.from_json(path_data, order=1, fix_linear=True, model_type=\"global\")\n",
    "model.fit(lmbda=-1, A=0, B=0)\n",
    "print(model.parameters())\n",
    "\n",
    "################### Plotting ######################\n",
    "fig = plt.figure(figsize=(4,4))\n",
    "gs = gridspec.GridSpec(2,2, height_ratios=[4,1], width_ratios=[4,1])\n",
    "# Construct grid.\n",
    "ax_c = fig.add_subplot(gs[0:1, 0:1])\n",
    "ax_r = fig.add_subplot(gs[1: , 0:1], sharex=ax_c)\n",
    "ax_h = fig.add_subplot(gs[1: , 1: ], sharey=ax_r)\n",
    "\n",
    "### correlation plot\n",
    "plot.corr(model.predict_linear(), model.gpm.phenotypes, fig=fig, ax=ax_c)\n",
    "# Add fitted model to plot\n",
    "xmodel = np.linspace(min(model.predict_linear()), max(model.predict_linear()), 1000)\n",
    "ymodel = model.function(xmodel, *model.parameters.get_params())\n",
    "ax_c.plot(xmodel, ymodel, '-r', linewidth=2)\n",
    "\n",
    "### residuals\n",
    "plot.resid(model.predict(), model.gpm.phenotypes, fig=fig, ax=ax_r)\n",
    "\n",
    "### histogram\n",
    "plot.rhist(model.predict(), model.gpm.phenotypes, fig=fig, ax=ax_h)"
   ]
  },
  {
   "cell_type": "markdown",
   "metadata": {},
   "source": [
    "# Data set II"
   ]
  },
  {
   "cell_type": "code",
   "execution_count": 14,
   "metadata": {
    "collapsed": false
   },
   "outputs": [
    {
     "name": "stdout",
     "output_type": "stream",
     "text": [
      "{'A': 0.68199946231120867, 'B': -0.60783159905054251, 'lmbda': -4.2746458163945737}\n"
     ]
    },
    {
     "data": {
      "text/plain": [
       "(<matplotlib.figure.Figure at 0x10c5bfe10>,\n",
       " <matplotlib.axes._subplots.AxesSubplot at 0x10cc2c240>)"
      ]
     },
     "execution_count": 14,
     "metadata": {},
     "output_type": "execute_result"
    },
    {
     "data": {
      "image/png": "[encoded data removed]",
      "text/plain": [
       "<matplotlib.figure.Figure at 0x10c5bfe10>"
      ]
     },
     "metadata": {},
     "output_type": "display_data"
    }
   ],
   "source": [
    "# Path to dataset\n",
    "dataset = \"krug1\"\n",
    "path_data = \"../datasets/\" + dataset + \".json\"\n",
    "\n",
    "model = EpistasisPowerTransform.from_json(path_data, order=1, fix_linear=True, model_type=\"global\")\n",
    "model.fit(lmbda=-.1, A=1, B=0)\n",
    "print(model.parameters())\n",
    "\n",
    "################### Plotting ######################\n",
    "fig = plt.figure(figsize=(4,4))\n",
    "gs = gridspec.GridSpec(2,2, height_ratios=[4,1], width_ratios=[4,1])\n",
    "# Construct grid.\n",
    "ax_c = fig.add_subplot(gs[0:1, 0:1])\n",
    "ax_r = fig.add_subplot(gs[1: , 0:1], sharex=ax_c)\n",
    "ax_h = fig.add_subplot(gs[1: , 1: ], sharey=ax_r)\n",
    "\n",
    "### correlation plot\n",
    "plot.corr(model.predict_linear(), model.gpm.phenotypes, fig=fig, ax=ax_c)\n",
    "# Add fitted model to plot\n",
    "xmodel = np.linspace(min(model.predict_linear()), max(model.predict_linear()), 1000)\n",
    "ymodel = model.function(xmodel, *model.parameters.get_params())\n",
    "ax_c.plot(xmodel, ymodel, '-r', linewidth=2)\n",
    "\n",
    "### residuals\n",
    "plot.resid(model.predict(), model.gpm.phenotypes, fig=fig, ax=ax_r)\n",
    "\n",
    "### histogram\n",
    "plot.rhist(model.predict(), model.gpm.phenotypes, fig=fig, ax=ax_h)"
   ]
  },
  {
   "cell_type": "code",
   "execution_count": 16,
   "metadata": {
    "collapsed": false
   },
   "outputs": [
    {
     "name": "stdout",
     "output_type": "stream",
     "text": [
      "{'A': 21.658164170750275, 'B': 0.95820683387953898, 'lmbda': 226.4726824168965}\n"
     ]
    },
    {
     "name": "stderr",
     "output_type": "stream",
     "text": [
      "/Users/Zsailer/Documents/Research/projects/pkgs/epistasis/epistasis/models/nonlinear/power.py:12: RuntimeWarning: overflow encountered in power\n",
      "  first = (x+A)**lmbda\n",
      "/Users/Zsailer/Documents/Research/projects/pkgs/epistasis/epistasis/models/nonlinear/power.py:13: RuntimeWarning: overflow encountered in double_scalars\n",
      "  out = (first - 1.0)/(lmbda * gmean**(lmbda-1)) + B\n",
      "/Users/Zsailer/Documents/Research/projects/pkgs/epistasis/epistasis/models/nonlinear/power.py:13: RuntimeWarning: invalid value encountered in true_divide\n",
      "  out = (first - 1.0)/(lmbda * gmean**(lmbda-1)) + B\n"
     ]
    },
    {
     "data": {
      "text/plain": [
       "(<matplotlib.figure.Figure at 0x10cc31be0>,\n",
       " <matplotlib.axes._subplots.AxesSubplot at 0x10d07b630>)"
      ]
     },
     "execution_count": 16,
     "metadata": {},
     "output_type": "execute_result"
    },
    {
     "data": {
      "image/png": "[encoded data removed]",
      "text/plain": [
       "<matplotlib.figure.Figure at 0x10cc31be0>"
      ]
     },
     "metadata": {},
     "output_type": "display_data"
    }
   ],
   "source": [
    "# Path to dataset\n",
    "dataset = \"weinreich\"\n",
    "path_data = \"../datasets/\" + dataset + \".json\"\n",
    "\n",
    "model = EpistasisPowerTransform.from_json(path_data, order=1, fix_linear=True, model_type=\"global\")\n",
    "model.fit(lmbda=-1, A=0, B=0)\n",
    "print(model.parameters())\n",
    "\n",
    "################### Plotting ######################\n",
    "fig = plt.figure(figsize=(4,4))\n",
    "gs = gridspec.GridSpec(2,2, height_ratios=[4,1], width_ratios=[4,1])\n",
    "# Construct grid.\n",
    "ax_c = fig.add_subplot(gs[0:1, 0:1])\n",
    "ax_r = fig.add_subplot(gs[1: , 0:1], sharex=ax_c)\n",
    "ax_h = fig.add_subplot(gs[1: , 1: ], sharey=ax_r)\n",
    "\n",
    "### correlation plot\n",
    "plot.corr(model.predict_linear(), model.gpm.phenotypes, fig=fig, ax=ax_c)\n",
    "# Add fitted model to plot\n",
    "xmodel = np.linspace(min(model.predict_linear()), max(model.predict_linear()), 1000)\n",
    "ymodel = model.function(xmodel, *model.parameters.get_params())\n",
    "ax_c.plot(xmodel, ymodel, '-r', linewidth=2)\n",
    "\n",
    "### residuals\n",
    "plot.resid(model.predict(), model.gpm.phenotypes, fig=fig, ax=ax_r)\n",
    "\n",
    "### histogram\n",
    "plot.rhist(model.predict(), model.gpm.phenotypes, fig=fig, ax=ax_h)"
   ]
  },
  {
   "cell_type": "markdown",
   "metadata": {},
   "source": [
    "## Data set IV"
   ]
  },
  {
   "cell_type": "markdown",
   "metadata": {},
   "source": [
    "Data set IV was published as $\\Delta G$s, but were given to us as $k_a$s. Before fitting with a nonlinear epistasis model, we converted the values to $\\Delta G$s to be consistent with the literature."
   ]
  },
  {
   "cell_type": "code",
   "execution_count": 19,
   "metadata": {
    "collapsed": false
   },
   "outputs": [
    {
     "name": "stdout",
     "output_type": "stream",
     "text": [
      "{'A': -2.3363500098475281, 'B': 5.159015418639977, 'lmbda': 2.9275533704633534}\n"
     ]
    },
    {
     "data": {
      "text/plain": [
       "(<matplotlib.figure.Figure at 0x10cc7ab00>,\n",
       " <matplotlib.axes._subplots.AxesSubplot at 0x10d31e3c8>)"
      ]
     },
     "execution_count": 19,
     "metadata": {},
     "output_type": "execute_result"
    },
    {
     "data": {
      "image/png": "[encoded data removed]",
      "text/plain": [
       "<matplotlib.figure.Figure at 0x10cc7ab00>"
      ]
     },
     "metadata": {},
     "output_type": "display_data"
    }
   ],
   "source": [
    "# Path to dataset\n",
    "dataset = \"anderson\"\n",
    "path_data = \"../datasets/\" + dataset + \".json\"\n",
    "\n",
    "# gas constant and temperature\n",
    "R = 1.9872036e-3\n",
    "T = 293\n",
    "\n",
    "gpm = GenotypePhenotypeMap.from_json(path_data)\n",
    "gpm.phenotypes = - np.log(gpm.phenotypes) * R * T \n",
    "\n",
    "model = EpistasisPowerTransform.from_gpm(gpm, order=1, fix_linear=True, model_type=\"global\")\n",
    "model.fit(lmbda=-1, A=0, B=0)\n",
    "print(model.parameters())\n",
    "\n",
    "################### Plotting ######################\n",
    "fig = plt.figure(figsize=(4,4))\n",
    "gs = gridspec.GridSpec(2,2, height_ratios=[4,1], width_ratios=[4,1])\n",
    "# Construct grid.\n",
    "ax_c = fig.add_subplot(gs[0:1, 0:1])\n",
    "ax_r = fig.add_subplot(gs[1: , 0:1], sharex=ax_c)\n",
    "ax_h = fig.add_subplot(gs[1: , 1: ], sharey=ax_r)\n",
    "\n",
    "### correlation plot\n",
    "plot.corr(model.predict_linear(), model.gpm.phenotypes, fig=fig, ax=ax_c)\n",
    "# Add fitted model to plot\n",
    "xmodel = np.linspace(min(model.predict_linear()), max(model.predict_linear()), 1000)\n",
    "ymodel = model.function(xmodel, *model.parameters.get_params())\n",
    "ax_c.plot(xmodel, ymodel, '-r', linewidth=2)\n",
    "\n",
    "### residuals\n",
    "plot.resid(model.predict(), model.gpm.phenotypes, fig=fig, ax=ax_r)\n",
    "\n",
    "### histogram\n",
    "plot.rhist(model.predict(), model.gpm.phenotypes, fig=fig, ax=ax_h)"
   ]
  }
 ],
 "metadata": {
  "kernelspec": {
   "display_name": "Python 3 (py3)",
   "language": "python",
   "name": "py3"
  },
  "language_info": {
   "codemirror_mode": {
    "name": "ipython",
    "version": 3
   },
   "file_extension": ".py",
   "mimetype": "text/x-python",
   "name": "python",
   "nbconvert_exporter": "python",
   "pygments_lexer": "ipython3",
   "version": "3.5.0"
  }
 },
 "nbformat": 4,
 "nbformat_minor": 1
}

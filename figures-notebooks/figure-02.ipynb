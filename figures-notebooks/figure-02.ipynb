{
 "cells": [
  {
   "cell_type": "markdown",
   "metadata": {},
   "source": [
    "# Figure 2"
   ]
  },
  {
   "cell_type": "code",
   "execution_count": 1,
   "metadata": {
    "collapsed": false
   },
   "outputs": [],
   "source": [
    "%matplotlib inline\n",
    "import numpy as np\n",
    "import matplotlib.pyplot as plt\n",
    "import scipy as sp\n",
    "from ipywidgets import interact, interactive\n",
    "import sys\n",
    "\n",
    "# Imports from epistasis API\n",
    "from epistasis import plot\n",
    "from epistasis.stats import pearson\n",
    "from epistasis.simulate.additive import AdditiveSimulation\n",
    "from epistasis.simulate.nonlinear import NonlinearSimulation\n",
    "from epistasis.models.transformations import EpistasisLinearTransformation"
   ]
  },
  {
   "cell_type": "markdown",
   "metadata": {},
   "source": [
    "Define and construct an additive genotype-phenotype map as follows:\n",
    "$$\n",
    "p_{00} = \\beta_{0} \\\\\n",
    "p_{01} = \\beta_{0} + \\beta_{1} \\\\\n",
    "p_{10} = \\beta_{0} + \\beta_{2} \\\\\n",
    "p_{11} = \\beta_{0} + \\beta_{1} + \\beta_{2} + \\beta{1,2} \\\\\n",
    "$$"
   ]
  },
  {
   "cell_type": "code",
   "execution_count": 5,
   "metadata": {
    "collapsed": true
   },
   "outputs": [],
   "source": [
    "# Length of genotypes\n",
    "length = 5\n",
    "# Order of epistasis\n",
    "order = 1 \n",
    "# Construct a simulated epistatic genotype-phenotype map.\n",
    "initial = AdditiveSimulation.from_length(length, model_type=\"global\")\n",
    "initial.set_coefs_order(1)\n",
    "initial.set_coefs_random((-0.15, 0.15))\n",
    "initial.epistasis.values[0] = 0.5 # Center the phenotypes at 0.5\n",
    "initial.build()\n",
    "initial.epistasis.values = np.array([ 0.5, -0.13463125, 0.12698641, 0.02709926, 0.09493059, 0.10254137])"
   ]
  },
  {
   "cell_type": "markdown",
   "metadata": {},
   "source": [
    "The actual epistatic coefs set in the paper were:\n",
    "```python\n",
    ">>> initial.epistasis.values = np.array([ 0.5, -0.13463125, 0.12698641, 0.02709926, 0.09493059, 0.10254137])\n",
    "```"
   ]
  },
  {
   "cell_type": "code",
   "execution_count": 28,
   "metadata": {
    "collapsed": false
   },
   "outputs": [
    {
     "data": {
      "image/png": "[encoded data removed]",
      "text/plain": [
       "<matplotlib.figure.Figure at 0x10bac49e8>"
      ]
     },
     "metadata": {},
     "output_type": "display_data"
    }
   ],
   "source": [
    "fig, ax = plot.coefs(initial.epistasis.values, initial.epistasis.labels, figsize=(1,3))"
   ]
  },
  {
   "cell_type": "markdown",
   "metadata": {},
   "source": [
    "Define and construct a nonlinear mapping between the observed phenotype and the underlying phenotype. Here, we define a saturation function:\n",
    "$$\n",
    "p_{obs} = \\frac{(k+1)\\cdot p_{linear}}{k \\cdot p_{linear}+1}\n",
    "$$"
   ]
  },
  {
   "cell_type": "code",
   "execution_count": null,
   "metadata": {
    "collapsed": true
   },
   "outputs": [],
   "source": [
    "def function(x, k):\n",
    "    return ((k+1)*x) / (k*x + 1) "
   ]
  },
  {
   "cell_type": "markdown",
   "metadata": {},
   "source": [
    "We can sweep through the parameter, $k$, to tune the amount of nonlinearity."
   ]
  },
  {
   "cell_type": "code",
   "execution_count": 24,
   "metadata": {
    "collapsed": false
   },
   "outputs": [],
   "source": [
    "k = 2\n",
    "nonlinear = NonlinearSimulation.from_linear(initial, function=function, p0=(k,))"
   ]
  },
  {
   "cell_type": "code",
   "execution_count": 35,
   "metadata": {
    "collapsed": false
   },
   "outputs": [
    {
     "data": {
      "text/plain": [
       "[<matplotlib.axis.XTick at 0x10bc6fa90>,\n",
       " <matplotlib.axis.XTick at 0x10badf128>,\n",
       " <matplotlib.axis.XTick at 0x10bc6fef0>]"
      ]
     },
     "execution_count": 35,
     "metadata": {},
     "output_type": "execute_result"
    },
    {
     "data": {
      "image/png": "[encoded data removed]",
      "text/plain": [
       "<matplotlib.figure.Figure at 0x10b7ca860>"
      ]
     },
     "metadata": {},
     "output_type": "display_data"
    }
   ],
   "source": [
    "fig, ax = plt.subplots(figsize=[2,2])\n",
    "\n",
    "x = np.linspace(min(initial.phenotypes),  max(initial.phenotypes), 100)\n",
    "y = nonlinear.function(x, *nonlinear.parameters.get_params())\n",
    "ax.plot(x, y, 'k-')\n",
    "ax.set_ylabel(\"$p_{obs}$\")\n",
    "ax.set_xlabel(\"$p_{linear}$\")\n",
    "ax.axis([-0.15,1.15,-0.15,1.15])\n",
    "ax.spines[\"top\"].set_visible(False)\n",
    "ax.spines[\"right\"].set_visible(False)\n",
    "ax.spines['bottom'].set_bounds(0,1.)\n",
    "ax.spines['left'].set_bounds(0,1.)\n",
    "ax.set_xticks([0,.5,1])"
   ]
  },
  {
   "cell_type": "markdown",
   "metadata": {},
   "source": [
    "If we fit the low-order, nonlinear genotype-phenotype map (with only 1st order terms), with a linear epistasis model, we see high-order epistasis."
   ]
  },
  {
   "cell_type": "code",
   "execution_count": 36,
   "metadata": {
    "collapsed": false
   },
   "outputs": [
    {
     "data": {
      "text/plain": [
       "(<matplotlib.figure.Figure at 0x10b7dfe10>,\n",
       " [<matplotlib.axes._subplots.AxesSubplot at 0x10b7df2e8>,\n",
       "  <matplotlib.axes._subplots.AxesSubplot at 0x10b7abd30>])"
      ]
     },
     "execution_count": 36,
     "metadata": {},
     "output_type": "execute_result"
    },
    {
     "data": {
      "image/png": "[encoded data removed]",
      "text/plain": [
       "<matplotlib.figure.Figure at 0x10b7dfe10>"
      ]
     },
     "metadata": {},
     "output_type": "display_data"
    }
   ],
   "source": [
    "model = EpistasisLinearTransformation.from_gpm(nonlinear, model_type=\"global\")\n",
    "model.fit()\n",
    "plot.coefs(model.epistasis.values, model.epistasis.labels, figsize=(8,6))"
   ]
  },
  {
   "cell_type": "code",
   "execution_count": null,
   "metadata": {
    "collapsed": true
   },
   "outputs": [],
   "source": []
  }
 ],
 "metadata": {
  "kernelspec": {
   "display_name": "Python 3 (py3)",
   "language": "python",
   "name": "py3"
  },
  "language_info": {
   "codemirror_mode": {
    "name": "ipython",
    "version": 3
   },
   "file_extension": ".py",
   "mimetype": "text/x-python",
   "name": "python",
   "nbconvert_exporter": "python",
   "pygments_lexer": "ipython3",
   "version": "3.5.0"
  }
 },
 "nbformat": 4,
 "nbformat_minor": 0
}
